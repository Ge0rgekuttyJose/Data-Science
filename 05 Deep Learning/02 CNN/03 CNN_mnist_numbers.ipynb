{
 "cells": [
  {
   "cell_type": "markdown",
   "id": "3d657989",
   "metadata": {},
   "source": [
    "### Convolutional Neural Network"
   ]
  },
  {
   "cell_type": "code",
   "execution_count": 18,
   "id": "b0f53873",
   "metadata": {},
   "outputs": [],
   "source": [
    "import matplotlib.pyplot as plt\n",
    "import numpy as np\n",
    "import tensorflow as tf\n",
    "from tensorflow.keras.datasets import mnist\n",
    "from tensorflow.keras.layers import Flatten,Dense,Conv2D,MaxPooling2D , Dropout\n",
    "from tensorflow.keras.models import Sequential\n",
    "from tensorflow.keras.optimizers import Adam\n",
    "from tensorflow.keras.losses import SparseCategoricalCrossentropy"
   ]
  },
  {
   "cell_type": "markdown",
   "id": "722b6de3",
   "metadata": {},
   "source": [
    "### Spliting into Train and Test"
   ]
  },
  {
   "cell_type": "code",
   "execution_count": 19,
   "id": "0ae0aa86",
   "metadata": {},
   "outputs": [],
   "source": [
    "(x_train,y_train),(x_test,y_test)=mnist.load_data()"
   ]
  },
  {
   "cell_type": "code",
   "execution_count": 20,
   "id": "0e1b8fca",
   "metadata": {},
   "outputs": [
    {
     "data": {
      "text/plain": [
       "<matplotlib.image.AxesImage at 0x22bb2455730>"
      ]
     },
     "execution_count": 20,
     "metadata": {},
     "output_type": "execute_result"
    },
    {
     "data": {
      "image/png": "[encoded data removed]",
      "text/plain": [
       "<Figure size 288x288 with 1 Axes>"
      ]
     },
     "metadata": {
      "needs_background": "light"
     },
     "output_type": "display_data"
    }
   ],
   "source": [
    "plt.matshow(x_train[100])"
   ]
  },
  {
   "cell_type": "code",
   "execution_count": 21,
   "id": "9ea03b7d",
   "metadata": {},
   "outputs": [
    {
     "data": {
      "text/plain": [
       "0"
      ]
     },
     "execution_count": 21,
     "metadata": {},
     "output_type": "execute_result"
    }
   ],
   "source": [
    "y_train[1]"
   ]
  },
  {
   "cell_type": "markdown",
   "id": "daead6fc",
   "metadata": {},
   "source": [
    "### Target Classes"
   ]
  },
  {
   "cell_type": "code",
   "execution_count": 22,
   "id": "44e38081",
   "metadata": {},
   "outputs": [],
   "source": [
    "classes = ['zero','one','two','three','four','five','six','seven','eight','nine']"
   ]
  },
  {
   "cell_type": "code",
   "execution_count": 23,
   "id": "665f5c68",
   "metadata": {},
   "outputs": [
    {
     "data": {
      "text/plain": [
       "((60000, 28, 28), (10000, 28, 28))"
      ]
     },
     "execution_count": 23,
     "metadata": {},
     "output_type": "execute_result"
    }
   ],
   "source": [
    "x_train.shape , x_test.shape"
   ]
  },
  {
   "cell_type": "markdown",
   "id": "f0929911",
   "metadata": {},
   "source": [
    "### Converting into necessary shape"
   ]
  },
  {
   "cell_type": "code",
   "execution_count": 24,
   "id": "6cdea5ad",
   "metadata": {},
   "outputs": [],
   "source": [
    "x_train = x_train.reshape((x_train.shape[0],x_train.shape[1],x_train.shape[2],1))\n",
    "x_test = x_test.reshape((x_test.shape[0],x_test.shape[1],x_test.shape[2],1))"
   ]
  },
  {
   "cell_type": "code",
   "execution_count": 25,
   "id": "8cb56e22",
   "metadata": {},
   "outputs": [
    {
     "data": {
      "text/plain": [
       "((60000, 28, 28, 1), (10000, 28, 28, 1))"
      ]
     },
     "execution_count": 25,
     "metadata": {},
     "output_type": "execute_result"
    }
   ],
   "source": [
    "x_train.shape , x_test.shape"
   ]
  },
  {
   "cell_type": "markdown",
   "id": "9e1455f8",
   "metadata": {},
   "source": [
    "### Creating a model "
   ]
  },
  {
   "cell_type": "code",
   "execution_count": 26,
   "id": "cc8dea38",
   "metadata": {},
   "outputs": [],
   "source": [
    "model = Sequential()\n",
    "model.add(Conv2D(32,(3,3),input_shape=(28,28,1),activation='relu',padding='same',strides=(2,2)))\n",
    "model.add(MaxPooling2D(pool_size=(2,2)))\n",
    "model.add(Dropout(0.5))\n",
    "\n",
    "model.add(Conv2D(32,(3,3),activation = 'relu'))\n",
    "model.add(Conv2D(32,(3,3),activation = 'relu'))\n",
    "model.add(Flatten())\n",
    "\n",
    "model.add(Dense(32,activation='relu'))\n",
    "model.add(Dense(10,activation='softmax'))"
   ]
  },
  {
   "cell_type": "code",
   "execution_count": 27,
   "id": "685b3101",
   "metadata": {},
   "outputs": [
    {
     "name": "stdout",
     "output_type": "stream",
     "text": [
      "Model: \"sequential\"\n",
      "_________________________________________________________________\n",
      " Layer (type)                Output Shape              Param #   \n",
      "=================================================================\n",
      " conv2d (Conv2D)             (None, 14, 14, 32)        320       \n",
      "                                                                 \n",
      " max_pooling2d (MaxPooling2D  (None, 7, 7, 32)         0         \n",
      " )                                                               \n",
      "                                                                 \n",
      " dropout (Dropout)           (None, 7, 7, 32)          0         \n",
      "                                                                 \n",
      " conv2d_1 (Conv2D)           (None, 5, 5, 32)          9248      \n",
      "                                                                 \n",
      " conv2d_2 (Conv2D)           (None, 3, 3, 32)          9248      \n",
      "                                                                 \n",
      " flatten (Flatten)           (None, 288)               0         \n",
      "                                                                 \n",
      " dense (Dense)               (None, 32)                9248      \n",
      "                                                                 \n",
      " dense_1 (Dense)             (None, 10)                330       \n",
      "                                                                 \n",
      "=================================================================\n",
      "Total params: 28,394\n",
      "Trainable params: 28,394\n",
      "Non-trainable params: 0\n",
      "_________________________________________________________________\n"
     ]
    }
   ],
   "source": [
    "\n",
    "callbacks = tf.keras.callbacks.EarlyStopping(monitor = 'val_accuracy',patience = 10)\n",
    "\n",
    "model.compile(loss= 'sparse_categorical_crossentropy',optimizer = Adam(learning_rate =0.001),metrics = ['accuracy'])\n",
    "model.summary()"
   ]
  },
  {
   "cell_type": "markdown",
   "id": "554b1f82",
   "metadata": {},
   "source": [
    "### Training a model"
   ]
  },
  {
   "cell_type": "code",
   "execution_count": 28,
   "id": "305a027e",
   "metadata": {},
   "outputs": [
    {
     "name": "stdout",
     "output_type": "stream",
     "text": [
      "Epoch 1/100\n",
      "1200/1200 [==============================] - 13s 10ms/step - loss: 0.9823 - accuracy: 0.7120 - val_loss: 0.1641 - val_accuracy: 0.9458\n",
      "Epoch 2/100\n",
      "1200/1200 [==============================] - 14s 11ms/step - loss: 0.2207 - accuracy: 0.9320 - val_loss: 0.0920 - val_accuracy: 0.9713\n",
      "Epoch 3/100\n",
      "1200/1200 [==============================] - 12s 10ms/step - loss: 0.1585 - accuracy: 0.9498 - val_loss: 0.0742 - val_accuracy: 0.9762\n",
      "Epoch 4/100\n",
      "1200/1200 [==============================] - 12s 10ms/step - loss: 0.1323 - accuracy: 0.9592 - val_loss: 0.0693 - val_accuracy: 0.9789\n",
      "Epoch 5/100\n",
      "1200/1200 [==============================] - 12s 10ms/step - loss: 0.1179 - accuracy: 0.9629 - val_loss: 0.0644 - val_accuracy: 0.9788\n",
      "Epoch 6/100\n",
      "1200/1200 [==============================] - 13s 11ms/step - loss: 0.1085 - accuracy: 0.9660 - val_loss: 0.0552 - val_accuracy: 0.9820\n",
      "Epoch 7/100\n",
      "1200/1200 [==============================] - 12s 10ms/step - loss: 0.0984 - accuracy: 0.9693 - val_loss: 0.0526 - val_accuracy: 0.9825\n",
      "Epoch 8/100\n",
      "1200/1200 [==============================] - 12s 10ms/step - loss: 0.0938 - accuracy: 0.9706 - val_loss: 0.0501 - val_accuracy: 0.9844\n",
      "Epoch 9/100\n",
      "1200/1200 [==============================] - 12s 10ms/step - loss: 0.0893 - accuracy: 0.9718 - val_loss: 0.0498 - val_accuracy: 0.9838\n",
      "Epoch 10/100\n",
      "1200/1200 [==============================] - 11s 9ms/step - loss: 0.0842 - accuracy: 0.9736 - val_loss: 0.0521 - val_accuracy: 0.9825\n",
      "Epoch 11/100\n",
      "1200/1200 [==============================] - 11s 9ms/step - loss: 0.0826 - accuracy: 0.9738 - val_loss: 0.0556 - val_accuracy: 0.9824\n",
      "Epoch 12/100\n",
      "1200/1200 [==============================] - 11s 9ms/step - loss: 0.0807 - accuracy: 0.9750 - val_loss: 0.0465 - val_accuracy: 0.9852\n",
      "Epoch 13/100\n",
      "1200/1200 [==============================] - 10s 8ms/step - loss: 0.0760 - accuracy: 0.9767 - val_loss: 0.0472 - val_accuracy: 0.9842\n",
      "Epoch 14/100\n",
      "1200/1200 [==============================] - 10s 8ms/step - loss: 0.0756 - accuracy: 0.9763 - val_loss: 0.0444 - val_accuracy: 0.9865\n",
      "Epoch 15/100\n",
      "1200/1200 [==============================] - 10s 8ms/step - loss: 0.0759 - accuracy: 0.9761 - val_loss: 0.0432 - val_accuracy: 0.9856\n",
      "Epoch 16/100\n",
      "1200/1200 [==============================] - 10s 8ms/step - loss: 0.0725 - accuracy: 0.9775 - val_loss: 0.0506 - val_accuracy: 0.9840\n",
      "Epoch 17/100\n",
      "1200/1200 [==============================] - 10s 8ms/step - loss: 0.0712 - accuracy: 0.9776 - val_loss: 0.0417 - val_accuracy: 0.9876\n",
      "Epoch 18/100\n",
      "1200/1200 [==============================] - 10s 8ms/step - loss: 0.0694 - accuracy: 0.9789 - val_loss: 0.0475 - val_accuracy: 0.9857\n",
      "Epoch 19/100\n",
      "1200/1200 [==============================] - 10s 8ms/step - loss: 0.0707 - accuracy: 0.9780 - val_loss: 0.0420 - val_accuracy: 0.9869\n",
      "Epoch 20/100\n",
      "1200/1200 [==============================] - 10s 8ms/step - loss: 0.0681 - accuracy: 0.9794 - val_loss: 0.0415 - val_accuracy: 0.9877\n",
      "Epoch 21/100\n",
      "1200/1200 [==============================] - 11s 9ms/step - loss: 0.0674 - accuracy: 0.9785 - val_loss: 0.0432 - val_accuracy: 0.9861\n",
      "Epoch 22/100\n",
      "1200/1200 [==============================] - 12s 10ms/step - loss: 0.0635 - accuracy: 0.9805 - val_loss: 0.0460 - val_accuracy: 0.9849\n",
      "Epoch 23/100\n",
      "1200/1200 [==============================] - 17s 15ms/step - loss: 0.0649 - accuracy: 0.9799 - val_loss: 0.0431 - val_accuracy: 0.9861\n",
      "Epoch 24/100\n",
      "1200/1200 [==============================] - 15s 12ms/step - loss: 0.0640 - accuracy: 0.9803 - val_loss: 0.0402 - val_accuracy: 0.9869\n",
      "Epoch 25/100\n",
      "1200/1200 [==============================] - 14s 12ms/step - loss: 0.0648 - accuracy: 0.9798 - val_loss: 0.0468 - val_accuracy: 0.9855\n",
      "Epoch 26/100\n",
      "1200/1200 [==============================] - 12s 10ms/step - loss: 0.0631 - accuracy: 0.9809 - val_loss: 0.0401 - val_accuracy: 0.9882\n",
      "Epoch 27/100\n",
      "1200/1200 [==============================] - 12s 10ms/step - loss: 0.0618 - accuracy: 0.9806 - val_loss: 0.0472 - val_accuracy: 0.9860\n",
      "Epoch 28/100\n",
      "1200/1200 [==============================] - 12s 10ms/step - loss: 0.0619 - accuracy: 0.9809 - val_loss: 0.0375 - val_accuracy: 0.9885\n",
      "Epoch 29/100\n",
      "1200/1200 [==============================] - 14s 12ms/step - loss: 0.0589 - accuracy: 0.9819 - val_loss: 0.0397 - val_accuracy: 0.9890\n",
      "Epoch 30/100\n",
      "1200/1200 [==============================] - 14s 12ms/step - loss: 0.0611 - accuracy: 0.9811 - val_loss: 0.0346 - val_accuracy: 0.9887\n",
      "Epoch 31/100\n",
      "1200/1200 [==============================] - 12s 10ms/step - loss: 0.0581 - accuracy: 0.9823 - val_loss: 0.0415 - val_accuracy: 0.9870\n",
      "Epoch 32/100\n",
      "1200/1200 [==============================] - 14s 12ms/step - loss: 0.0576 - accuracy: 0.9825 - val_loss: 0.0464 - val_accuracy: 0.9878\n",
      "Epoch 33/100\n",
      "1200/1200 [==============================] - 12s 10ms/step - loss: 0.0599 - accuracy: 0.9813 - val_loss: 0.0431 - val_accuracy: 0.9869\n",
      "Epoch 34/100\n",
      "1200/1200 [==============================] - 13s 11ms/step - loss: 0.0569 - accuracy: 0.9821 - val_loss: 0.0376 - val_accuracy: 0.9901\n",
      "Epoch 35/100\n",
      "1200/1200 [==============================] - 12s 10ms/step - loss: 0.0571 - accuracy: 0.9826 - val_loss: 0.0399 - val_accuracy: 0.9886\n",
      "Epoch 36/100\n",
      "1200/1200 [==============================] - 12s 10ms/step - loss: 0.0588 - accuracy: 0.9823 - val_loss: 0.0441 - val_accuracy: 0.9878\n",
      "Epoch 37/100\n",
      "1200/1200 [==============================] - 12s 10ms/step - loss: 0.0576 - accuracy: 0.9824 - val_loss: 0.0456 - val_accuracy: 0.9864\n",
      "Epoch 38/100\n",
      "1200/1200 [==============================] - 13s 10ms/step - loss: 0.0560 - accuracy: 0.9831 - val_loss: 0.0403 - val_accuracy: 0.9884\n",
      "Epoch 39/100\n",
      "1200/1200 [==============================] - 13s 11ms/step - loss: 0.0584 - accuracy: 0.9819 - val_loss: 0.0491 - val_accuracy: 0.9848\n",
      "Epoch 40/100\n",
      "1200/1200 [==============================] - 11s 9ms/step - loss: 0.0570 - accuracy: 0.9828 - val_loss: 0.0437 - val_accuracy: 0.9874\n",
      "Epoch 41/100\n",
      "1200/1200 [==============================] - 11s 9ms/step - loss: 0.0552 - accuracy: 0.9837 - val_loss: 0.0425 - val_accuracy: 0.9866\n",
      "Epoch 42/100\n",
      "1200/1200 [==============================] - 11s 9ms/step - loss: 0.0555 - accuracy: 0.9835 - val_loss: 0.0426 - val_accuracy: 0.9889\n",
      "Epoch 43/100\n",
      "1200/1200 [==============================] - 11s 9ms/step - loss: 0.0547 - accuracy: 0.9829 - val_loss: 0.0444 - val_accuracy: 0.9871\n",
      "Epoch 44/100\n",
      "1200/1200 [==============================] - 11s 9ms/step - loss: 0.0565 - accuracy: 0.9826 - val_loss: 0.0431 - val_accuracy: 0.9883\n"
     ]
    }
   ],
   "source": [
    "training_info = model.fit(x_train,y_train,batch_size=50,epochs=100,validation_data=(x_test,y_test),callbacks=callbacks)"
   ]
  },
  {
   "cell_type": "code",
   "execution_count": 29,
   "id": "a58e78b7",
   "metadata": {},
   "outputs": [],
   "source": [
    "hist = training_info.history"
   ]
  },
  {
   "cell_type": "markdown",
   "id": "2da981a3",
   "metadata": {},
   "source": [
    "### Training Loss Vs Testing Loss"
   ]
  },
  {
   "cell_type": "code",
   "execution_count": 31,
   "id": "e2c59d1d",
   "metadata": {},
   "outputs": [
    {
     "data": {
      "text/plain": [
       "<matplotlib.legend.Legend at 0x22bb1a3eb20>"
      ]
     },
     "execution_count": 31,
     "metadata": {},
     "output_type": "execute_result"
    },
    {
     "data": {
      "image/png": "[encoded data removed]",
      "text/plain": [
       "<Figure size 432x288 with 1 Axes>"
      ]
     },
     "metadata": {
      "needs_background": "light"
     },
     "output_type": "display_data"
    }
   ],
   "source": [
    "plt.plot(hist['loss'],label='training_loss',color='red')\n",
    "plt.plot(hist['val_loss'],label='validation_loss',color='green')\n",
    "plt.xlabel('epoch')\n",
    "plt.ylabel(\"loss\")\n",
    "plt.legend()"
   ]
  },
  {
   "cell_type": "markdown",
   "id": "31c044dd",
   "metadata": {},
   "source": [
    "### Training Accuracy Vs Testing Accuracy"
   ]
  },
  {
   "cell_type": "code",
   "execution_count": 32,
   "id": "b94e90be",
   "metadata": {},
   "outputs": [
    {
     "data": {
      "text/plain": [
       "<matplotlib.legend.Legend at 0x22bb1a90250>"
      ]
     },
     "execution_count": 32,
     "metadata": {},
     "output_type": "execute_result"
    },
    {
     "data": {
      "image/png": "[encoded data removed]",
      "text/plain": [
       "<Figure size 432x288 with 1 Axes>"
      ]
     },
     "metadata": {
      "needs_background": "light"
     },
     "output_type": "display_data"
    }
   ],
   "source": [
    "plt.plot(hist['accuracy'],label='training_accuracy',color='red')\n",
    "plt.plot(hist['val_accuracy'],label='validation_accuracy',color='green')\n",
    "plt.xlabel('epoch')\n",
    "plt.ylabel(\"loss\")\n",
    "plt.legend()"
   ]
  },
  {
   "cell_type": "code",
   "execution_count": 33,
   "id": "881b848c",
   "metadata": {},
   "outputs": [
    {
     "name": "stdout",
     "output_type": "stream",
     "text": [
      "313/313 [==============================] - 1s 3ms/step\n"
     ]
    }
   ],
   "source": [
    "y_pred = model.predict(x_test)\n",
    "\n",
    "y_pred = np.argmax(y_pred,axis=1)"
   ]
  },
  {
   "cell_type": "code",
   "execution_count": 34,
   "id": "a152460b",
   "metadata": {},
   "outputs": [
    {
     "data": {
      "text/html": [
       "<div>\n",
       "<style scoped>\n",
       "    .dataframe tbody tr th:only-of-type {\n",
       "        vertical-align: middle;\n",
       "    }\n",
       "\n",
       "    .dataframe tbody tr th {\n",
       "        vertical-align: top;\n",
       "    }\n",
       "\n",
       "    .dataframe thead th {\n",
       "        text-align: right;\n",
       "    }\n",
       "</style>\n",
       "<table border=\"1\" class=\"dataframe\">\n",
       "  <thead>\n",
       "    <tr style=\"text-align: right;\">\n",
       "      <th></th>\n",
       "      <th>True Value</th>\n",
       "      <th>Predicted Value</th>\n",
       "    </tr>\n",
       "  </thead>\n",
       "  <tbody>\n",
       "    <tr>\n",
       "      <th>0</th>\n",
       "      <td>7</td>\n",
       "      <td>7</td>\n",
       "    </tr>\n",
       "    <tr>\n",
       "      <th>1</th>\n",
       "      <td>2</td>\n",
       "      <td>2</td>\n",
       "    </tr>\n",
       "    <tr>\n",
       "      <th>2</th>\n",
       "      <td>1</td>\n",
       "      <td>1</td>\n",
       "    </tr>\n",
       "    <tr>\n",
       "      <th>3</th>\n",
       "      <td>0</td>\n",
       "      <td>0</td>\n",
       "    </tr>\n",
       "    <tr>\n",
       "      <th>4</th>\n",
       "      <td>4</td>\n",
       "      <td>4</td>\n",
       "    </tr>\n",
       "    <tr>\n",
       "      <th>...</th>\n",
       "      <td>...</td>\n",
       "      <td>...</td>\n",
       "    </tr>\n",
       "    <tr>\n",
       "      <th>9995</th>\n",
       "      <td>2</td>\n",
       "      <td>2</td>\n",
       "    </tr>\n",
       "    <tr>\n",
       "      <th>9996</th>\n",
       "      <td>3</td>\n",
       "      <td>3</td>\n",
       "    </tr>\n",
       "    <tr>\n",
       "      <th>9997</th>\n",
       "      <td>4</td>\n",
       "      <td>4</td>\n",
       "    </tr>\n",
       "    <tr>\n",
       "      <th>9998</th>\n",
       "      <td>5</td>\n",
       "      <td>5</td>\n",
       "    </tr>\n",
       "    <tr>\n",
       "      <th>9999</th>\n",
       "      <td>6</td>\n",
       "      <td>6</td>\n",
       "    </tr>\n",
       "  </tbody>\n",
       "</table>\n",
       "<p>10000 rows × 2 columns</p>\n",
       "</div>"
      ],
      "text/plain": [
       "      True Value  Predicted Value\n",
       "0              7                7\n",
       "1              2                2\n",
       "2              1                1\n",
       "3              0                0\n",
       "4              4                4\n",
       "...          ...              ...\n",
       "9995           2                2\n",
       "9996           3                3\n",
       "9997           4                4\n",
       "9998           5                5\n",
       "9999           6                6\n",
       "\n",
       "[10000 rows x 2 columns]"
      ]
     },
     "execution_count": 34,
     "metadata": {},
     "output_type": "execute_result"
    }
   ],
   "source": [
    "import pandas as pd\n",
    "pd.DataFrame({'True Value' : y_test ,'Predicted Value' : y_pred })"
   ]
  },
  {
   "cell_type": "markdown",
   "id": "9b10d632",
   "metadata": {},
   "source": [
    "### Prediction"
   ]
  },
  {
   "cell_type": "code",
   "execution_count": 35,
   "id": "a9a4d898",
   "metadata": {},
   "outputs": [],
   "source": [
    "def predict(index):\n",
    "  pred_index=np.argmax(model.predict(x_test[index].reshape(1,28,28,1)))\n",
    "  pred_label=classes[pred_index]\n",
    "  plt.matshow(x_test[index].reshape(28,28))\n",
    "  print(f'predicted label is {pred_label}')\n",
    "  print(f'true label is {classes[y_test[index]]}')"
   ]
  },
  {
   "cell_type": "code",
   "execution_count": 36,
   "id": "b271ac4a",
   "metadata": {},
   "outputs": [
    {
     "name": "stdout",
     "output_type": "stream",
     "text": [
      "1/1 [==============================] - 0s 31ms/step\n",
      "predicted label is eight\n",
      "true label is eight\n"
     ]
    },
    {
     "data": {
      "image/png": "[encoded data removed]",
      "text/plain": [
       "<Figure size 288x288 with 1 Axes>"
      ]
     },
     "metadata": {
      "needs_background": "light"
     },
     "output_type": "display_data"
    }
   ],
   "source": [
    "predict(800)"
   ]
  },
  {
   "cell_type": "code",
   "execution_count": 37,
   "id": "aa4a27d2",
   "metadata": {},
   "outputs": [
    {
     "name": "stdout",
     "output_type": "stream",
     "text": [
      "1/1 [==============================] - 0s 31ms/step\n",
      "predicted label is three\n",
      "true label is three\n"
     ]
    },
    {
     "data": {
      "image/png": "[encoded data removed]",
      "text/plain": [
       "<Figure size 288x288 with 1 Axes>"
      ]
     },
     "metadata": {
      "needs_background": "light"
     },
     "output_type": "display_data"
    }
   ],
   "source": [
    "predict(808)"
   ]
  },
  {
   "cell_type": "code",
   "execution_count": null,
   "id": "3276ae60",
   "metadata": {},
   "outputs": [],
   "source": []
  }
 ],
 "metadata": {
  "kernelspec": {
   "display_name": "Python 3 (ipykernel)",
   "language": "python",
   "name": "python3"
  },
  "language_info": {
   "codemirror_mode": {
    "name": "ipython",
    "version": 3
   },
   "file_extension": ".py",
   "mimetype": "text/x-python",
   "name": "python",
   "nbconvert_exporter": "python",
   "pygments_lexer": "ipython3",
   "version": "3.9.12"
  }
 },
 "nbformat": 4,
 "nbformat_minor": 5
}
