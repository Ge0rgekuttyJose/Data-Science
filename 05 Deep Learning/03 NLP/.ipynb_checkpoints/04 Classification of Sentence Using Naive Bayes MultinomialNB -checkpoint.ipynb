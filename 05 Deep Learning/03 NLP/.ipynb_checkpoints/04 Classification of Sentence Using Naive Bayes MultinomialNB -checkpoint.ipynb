{
 "cells": [
  {
   "cell_type": "markdown",
   "id": "d6be53bd",
   "metadata": {},
   "source": [
    "### Sentiment Analysis of a Sentence Using Navie Bayes MultinomialNB "
   ]
  },
  {
   "cell_type": "code",
   "execution_count": 1,
   "id": "96ec4ed8",
   "metadata": {},
   "outputs": [],
   "source": [
    "from sklearn.datasets import fetch_20newsgroups\n",
    "from sklearn.naive_bayes import MultinomialNB\n",
    "from sklearn.feature_extraction.text import CountVectorizer\n",
    "from sklearn.feature_extraction.text import TfidfTransformer"
   ]
  },
  {
   "cell_type": "markdown",
   "id": "652c5091",
   "metadata": {},
   "source": [
    "### Reading the datasets"
   ]
  },
  {
   "cell_type": "code",
   "execution_count": 2,
   "id": "bcf45cff",
   "metadata": {},
   "outputs": [],
   "source": [
    "news_full =fetch_20newsgroups(subset='all')"
   ]
  },
  {
   "cell_type": "code",
   "execution_count": 3,
   "id": "16610234",
   "metadata": {},
   "outputs": [
    {
     "data": {
      "text/plain": [
       "dict_keys(['data', 'filenames', 'target_names', 'target', 'DESCR'])"
      ]
     },
     "execution_count": 3,
     "metadata": {},
     "output_type": "execute_result"
    }
   ],
   "source": [
    "news_full.keys()"
   ]
  },
  {
   "cell_type": "code",
   "execution_count": 4,
   "id": "ae3a987e",
   "metadata": {},
   "outputs": [],
   "source": [
    "category=news_full.target_names"
   ]
  },
  {
   "cell_type": "code",
   "execution_count": 5,
   "id": "b4d6eb71",
   "metadata": {},
   "outputs": [
    {
     "data": {
      "text/plain": [
       "['alt.atheism',\n",
       " 'comp.graphics',\n",
       " 'comp.os.ms-windows.misc',\n",
       " 'comp.sys.ibm.pc.hardware',\n",
       " 'comp.sys.mac.hardware',\n",
       " 'comp.windows.x',\n",
       " 'misc.forsale',\n",
       " 'rec.autos',\n",
       " 'rec.motorcycles',\n",
       " 'rec.sport.baseball',\n",
       " 'rec.sport.hockey',\n",
       " 'sci.crypt',\n",
       " 'sci.electronics',\n",
       " 'sci.med',\n",
       " 'sci.space',\n",
       " 'soc.religion.christian',\n",
       " 'talk.politics.guns',\n",
       " 'talk.politics.mideast',\n",
       " 'talk.politics.misc',\n",
       " 'talk.religion.misc']"
      ]
     },
     "execution_count": 5,
     "metadata": {},
     "output_type": "execute_result"
    }
   ],
   "source": [
    "category"
   ]
  },
  {
   "cell_type": "code",
   "execution_count": 6,
   "id": "58e829f8",
   "metadata": {},
   "outputs": [
    {
     "data": {
      "text/plain": [
       "['alt.atheism',\n",
       " 'comp.graphics',\n",
       " 'comp.os.ms-windows.misc',\n",
       " 'comp.sys.ibm.pc.hardware',\n",
       " 'comp.sys.mac.hardware',\n",
       " 'comp.windows.x',\n",
       " 'misc.forsale',\n",
       " 'rec.autos',\n",
       " 'rec.motorcycles',\n",
       " 'rec.sport.baseball',\n",
       " 'rec.sport.hockey',\n",
       " 'sci.crypt',\n",
       " 'sci.electronics',\n",
       " 'sci.med',\n",
       " 'sci.space',\n",
       " 'soc.religion.christian',\n",
       " 'talk.politics.guns',\n",
       " 'talk.politics.mideast',\n",
       " 'talk.politics.misc',\n",
       " 'talk.religion.misc']"
      ]
     },
     "execution_count": 6,
     "metadata": {},
     "output_type": "execute_result"
    }
   ],
   "source": [
    "news_train=fetch_20newsgroups(subset='train')\n",
    "category=news_train.target_names\n",
    "category"
   ]
  },
  {
   "cell_type": "code",
   "execution_count": 7,
   "id": "7f4bddc3",
   "metadata": {},
   "outputs": [
    {
     "data": {
      "text/plain": [
       "\"From: lerxst@wam.umd.edu (where's my thing)\\nSubject: WHAT car is this!?\\nNntp-Posting-Host: rac3.wam.umd.edu\\nOrganization: University of Maryland, College Park\\nLines: 15\\n\\n I was wondering if anyone out there could enlighten me on this car I saw\\nthe other day. It was a 2-door sports car, looked to be from the late 60s/\\nearly 70s. It was called a Bricklin. The doors were really small. In addition,\\nthe front bumper was separate from the rest of the body. This is \\nall I know. If anyone can tellme a model name, engine specs, years\\nof production, where this car is made, history, or whatever info you\\nhave on this funky looking car, please e-mail.\\n\\nThanks,\\n- IL\\n   ---- brought to you by your neighborhood Lerxst ----\\n\\n\\n\\n\\n\""
      ]
     },
     "execution_count": 7,
     "metadata": {},
     "output_type": "execute_result"
    }
   ],
   "source": [
    "news_train.data[0]"
   ]
  },
  {
   "cell_type": "code",
   "execution_count": 8,
   "id": "54fd4653",
   "metadata": {},
   "outputs": [
    {
     "data": {
      "text/plain": [
       "'rec.autos'"
      ]
     },
     "execution_count": 8,
     "metadata": {},
     "output_type": "execute_result"
    }
   ],
   "source": [
    "category[news_train.target[0]]"
   ]
  },
  {
   "cell_type": "markdown",
   "id": "34295c47",
   "metadata": {},
   "source": [
    "### Text Documents Into token of frequency using both CountVectorizer() & TfidfTransformer()"
   ]
  },
  {
   "cell_type": "code",
   "execution_count": 9,
   "id": "8dee2f20",
   "metadata": {},
   "outputs": [],
   "source": [
    "cv = CountVectorizer()\n",
    "train_cv = cv.fit_transform(news_train.data)"
   ]
  },
  {
   "cell_type": "code",
   "execution_count": 10,
   "id": "8a6aa5cc",
   "metadata": {},
   "outputs": [
    {
     "name": "stdout",
     "output_type": "stream",
     "text": [
      "Dimesion of training data :(11314, 130107)\n"
     ]
    }
   ],
   "source": [
    "print(f\"Dimesion of training data :{train_cv.shape}\")"
   ]
  },
  {
   "cell_type": "code",
   "execution_count": 11,
   "id": "6cb9d54e",
   "metadata": {},
   "outputs": [],
   "source": [
    "tfidf = TfidfTransformer()\n",
    "train_tfidf = tfidf.fit_transform(train_cv)"
   ]
  },
  {
   "cell_type": "markdown",
   "id": "5d237fa3",
   "metadata": {},
   "source": [
    "### Making testing data"
   ]
  },
  {
   "cell_type": "code",
   "execution_count": 13,
   "id": "64b5b8ee",
   "metadata": {},
   "outputs": [
    {
     "data": {
      "text/plain": [
       "<11314x130107 sparse matrix of type '<class 'numpy.float64'>'\n",
       "\twith 1787565 stored elements in Compressed Sparse Row format>"
      ]
     },
     "execution_count": 13,
     "metadata": {},
     "output_type": "execute_result"
    }
   ],
   "source": [
    "train_tfidf"
   ]
  },
  {
   "cell_type": "code",
   "execution_count": 18,
   "id": "e45d234f",
   "metadata": {},
   "outputs": [],
   "source": [
    "import pandas as pd\n",
    "x_train = pd.DataFrame.sparse.from_spmatrix(train_tfidf, columns=cv.get_feature_names_out())\n"
   ]
  },
  {
   "cell_type": "code",
   "execution_count": 24,
   "id": "7feb12e0",
   "metadata": {},
   "outputs": [
    {
     "name": "stdout",
     "output_type": "stream",
     "text": [
      "['00' '000' '0000' ... 'íålittin' 'ñaustin' 'ýé']\n"
     ]
    }
   ],
   "source": [
    "ff=cv.get_feature_names_out()\n",
    "print(ff)\n"
   ]
  },
  {
   "cell_type": "code",
   "execution_count": 57,
   "id": "8cb40b44",
   "metadata": {},
   "outputs": [],
   "source": [
    "test_data = [\n",
    "    'We must follow the traffic rules while driving vehicles',\n",
    "    'puck is a disk made of rubber',\n",
    "    'Microwave is an electronic device',\n",
    "    'Jane is a christian',\n",
    "    'Everyone of age 18 and above are eligible to vote']"
   ]
  },
  {
   "cell_type": "markdown",
   "id": "70cef597",
   "metadata": {},
   "source": [
    "### Creating a Model"
   ]
  },
  {
   "cell_type": "code",
   "execution_count": 58,
   "id": "78ee9869",
   "metadata": {},
   "outputs": [],
   "source": [
    "classifier = MultinomialNB().fit(train_tfidf,news_train.target)"
   ]
  },
  {
   "cell_type": "markdown",
   "id": "837bfbe2",
   "metadata": {},
   "source": [
    "### Prediction"
   ]
  },
  {
   "cell_type": "code",
   "execution_count": 59,
   "id": "ab0c18fe",
   "metadata": {},
   "outputs": [],
   "source": [
    "test_cv=cv.transform(test_data)\n",
    "test_tfidf = tfidf.transform(test_cv)\n"
   ]
  },
  {
   "cell_type": "code",
   "execution_count": 60,
   "id": "437a7aad",
   "metadata": {},
   "outputs": [],
   "source": [
    "predictions = classifier.predict(test_tfidf)"
   ]
  },
  {
   "cell_type": "code",
   "execution_count": 61,
   "id": "3b7581b3",
   "metadata": {},
   "outputs": [
    {
     "data": {
      "text/plain": [
       "array([ 7, 10, 12, 15, 16])"
      ]
     },
     "execution_count": 61,
     "metadata": {},
     "output_type": "execute_result"
    }
   ],
   "source": [
    "predictions"
   ]
  },
  {
   "cell_type": "code",
   "execution_count": 62,
   "id": "56563232",
   "metadata": {},
   "outputs": [
    {
     "name": "stdout",
     "output_type": "stream",
     "text": [
      "We must follow the traffic rules while driving vehicles\n",
      "rec.autos \n",
      "\n",
      "puck is a disk made of rubber\n",
      "rec.sport.hockey \n",
      "\n",
      "Microwave is an electronic device\n",
      "sci.electronics \n",
      "\n",
      "Jane is a christian\n",
      "soc.religion.christian \n",
      "\n",
      "Everyone of age 18 and above are eligible to vote\n",
      "talk.politics.guns \n",
      "\n"
     ]
    }
   ],
   "source": [
    "for i in range(len(test_data)):\n",
    "    print(test_data[i])\n",
    "    print(category[predictions[i]],'\\n')"
   ]
  }
 ],
 "metadata": {
  "kernelspec": {
   "display_name": "Python 3 (ipykernel)",
   "language": "python",
   "name": "python3"
  },
  "language_info": {
   "codemirror_mode": {
    "name": "ipython",
    "version": 3
   },
   "file_extension": ".py",
   "mimetype": "text/x-python",
   "name": "python",
   "nbconvert_exporter": "python",
   "pygments_lexer": "ipython3",
   "version": "3.9.12"
  }
 },
 "nbformat": 4,
 "nbformat_minor": 5
}
