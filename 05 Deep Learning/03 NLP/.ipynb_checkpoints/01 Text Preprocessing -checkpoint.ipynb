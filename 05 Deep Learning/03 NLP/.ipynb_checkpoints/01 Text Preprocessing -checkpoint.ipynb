{
 "cells": [
  {
   "cell_type": "code",
   "execution_count": 21,
   "id": "05ae20d8",
   "metadata": {},
   "outputs": [],
   "source": [
    "import nltk"
   ]
  },
  {
   "cell_type": "code",
   "execution_count": 22,
   "id": "df60bede",
   "metadata": {},
   "outputs": [
    {
     "name": "stderr",
     "output_type": "stream",
     "text": [
      "[nltk_data] Downloading package punkt to\n",
      "[nltk_data]     C:\\Users\\gkcha\\AppData\\Roaming\\nltk_data...\n",
      "[nltk_data]   Package punkt is already up-to-date!\n"
     ]
    },
    {
     "data": {
      "text/plain": [
       "True"
      ]
     },
     "execution_count": 22,
     "metadata": {},
     "output_type": "execute_result"
    }
   ],
   "source": [
    "nltk.download('punkt')"
   ]
  },
  {
   "cell_type": "markdown",
   "id": "273220cb",
   "metadata": {},
   "source": [
    "### Converting Text into Tokens"
   ]
  },
  {
   "cell_type": "code",
   "execution_count": 23,
   "id": "2919aad1",
   "metadata": {},
   "outputs": [],
   "source": [
    "from nltk.tokenize import word_tokenize,sent_tokenize\n",
    "text = '''Lionel Andres Leo Messi is an Argentine professional footballer.\n",
    "who plays as a forward for and captains both Major League Soccer club Inter Miami and the Argentina national team.'''"
   ]
  },
  {
   "cell_type": "markdown",
   "id": "ccdd9a7d",
   "metadata": {},
   "source": [
    "### Converting a List into Word of Tokens "
   ]
  },
  {
   "cell_type": "code",
   "execution_count": 24,
   "id": "81e12873",
   "metadata": {},
   "outputs": [
    {
     "data": {
      "text/plain": [
       "['Lionel',\n",
       " 'Andres',\n",
       " 'Leo',\n",
       " 'Messi',\n",
       " 'is',\n",
       " 'an',\n",
       " 'Argentine',\n",
       " 'professional',\n",
       " 'footballer',\n",
       " '.',\n",
       " 'who',\n",
       " 'plays',\n",
       " 'as',\n",
       " 'a',\n",
       " 'forward',\n",
       " 'for',\n",
       " 'and',\n",
       " 'captains',\n",
       " 'both',\n",
       " 'Major',\n",
       " 'League',\n",
       " 'Soccer',\n",
       " 'club',\n",
       " 'Inter',\n",
       " 'Miami',\n",
       " 'and',\n",
       " 'the',\n",
       " 'Argentina',\n",
       " 'national',\n",
       " 'team',\n",
       " '.']"
      ]
     },
     "execution_count": 24,
     "metadata": {},
     "output_type": "execute_result"
    }
   ],
   "source": [
    "word_tokenize(text)"
   ]
  },
  {
   "cell_type": "markdown",
   "id": "d0bb9f50",
   "metadata": {},
   "source": [
    "### Converting a List into Sentence of Tokens "
   ]
  },
  {
   "cell_type": "code",
   "execution_count": 25,
   "id": "7ea79f06",
   "metadata": {},
   "outputs": [
    {
     "data": {
      "text/plain": [
       "['Lionel Andres Leo Messi is an Argentine professional footballer.',\n",
       " 'who plays as a forward for and captains both Major League Soccer club Inter Miami and the Argentina national team.']"
      ]
     },
     "execution_count": 25,
     "metadata": {},
     "output_type": "execute_result"
    }
   ],
   "source": [
    "sent_tokenize(text)"
   ]
  },
  {
   "cell_type": "markdown",
   "id": "603c9f5b",
   "metadata": {},
   "source": [
    "### Transform a Word into its Root Form PorterStemmer"
   ]
  },
  {
   "cell_type": "code",
   "execution_count": 26,
   "id": "71a3c984",
   "metadata": {},
   "outputs": [
    {
     "name": "stdout",
     "output_type": "stream",
     "text": [
      "Original Word He\n",
      "Sreammed word he\n",
      "Original Word captures\n",
      "Sreammed word captur\n",
      "Original Word beautiful\n",
      "Sreammed word beauti\n",
      "Original Word pictures\n",
      "Sreammed word pictur\n"
     ]
    }
   ],
   "source": [
    "from nltk.stem import PorterStemmer\n",
    "\n",
    "text = 'He captures beautiful pictures'\n",
    "words  = word_tokenize(text)\n",
    "ps = PorterStemmer()\n",
    "\n",
    "for w in words:\n",
    "    print(\"Original Word\",w)\n",
    "    print(\"Sreammed word\",ps.stem(w))"
   ]
  },
  {
   "cell_type": "code",
   "execution_count": 27,
   "id": "4613f89f",
   "metadata": {},
   "outputs": [
    {
     "name": "stderr",
     "output_type": "stream",
     "text": [
      "[nltk_data] Downloading package wordnet to\n",
      "[nltk_data]     C:\\Users\\gkcha\\AppData\\Roaming\\nltk_data...\n",
      "[nltk_data]   Package wordnet is already up-to-date!\n"
     ]
    },
    {
     "data": {
      "text/plain": [
       "True"
      ]
     },
     "execution_count": 27,
     "metadata": {},
     "output_type": "execute_result"
    }
   ],
   "source": [
    "nltk.download('wordnet')"
   ]
  },
  {
   "cell_type": "code",
   "execution_count": 30,
   "id": "094b992c",
   "metadata": {},
   "outputs": [
    {
     "name": "stderr",
     "output_type": "stream",
     "text": [
      "[nltk_data] Downloading package omw-1.4 to\n",
      "[nltk_data]     C:\\Users\\gkcha\\AppData\\Roaming\\nltk_data...\n"
     ]
    },
    {
     "data": {
      "text/plain": [
       "True"
      ]
     },
     "execution_count": 30,
     "metadata": {},
     "output_type": "execute_result"
    }
   ],
   "source": [
    "nltk.download('omw-1.4')"
   ]
  },
  {
   "cell_type": "markdown",
   "id": "7d087490",
   "metadata": {},
   "source": [
    "### Transform a Word into its Root Form WordNetLemmatizer"
   ]
  },
  {
   "cell_type": "code",
   "execution_count": 31,
   "id": "4febbdc3",
   "metadata": {},
   "outputs": [
    {
     "name": "stdout",
     "output_type": "stream",
     "text": [
      "Original Word He\n",
      " Lemmatized word He\n",
      "Original Word captures\n",
      " Lemmatized word capture\n",
      "Original Word beautiful\n",
      " Lemmatized word beautiful\n",
      "Original Word pictures\n",
      " Lemmatized word picture\n"
     ]
    }
   ],
   "source": [
    "from nltk.stem import WordNetLemmatizer\n",
    "\n",
    "wnl = WordNetLemmatizer()\n",
    "\n",
    "for w in words:\n",
    "    print(\"Original Word\",w)\n",
    "    print(\" Lemmatized word\",wnl.lemmatize(w))"
   ]
  },
  {
   "cell_type": "code",
   "execution_count": 32,
   "id": "216597a0",
   "metadata": {},
   "outputs": [
    {
     "name": "stderr",
     "output_type": "stream",
     "text": [
      "[nltk_data] Downloading package stopwords to\n",
      "[nltk_data]     C:\\Users\\gkcha\\AppData\\Roaming\\nltk_data...\n",
      "[nltk_data]   Unzipping corpora\\stopwords.zip.\n"
     ]
    },
    {
     "data": {
      "text/plain": [
       "True"
      ]
     },
     "execution_count": 32,
     "metadata": {},
     "output_type": "execute_result"
    }
   ],
   "source": [
    "nltk.download('stopwords')"
   ]
  },
  {
   "cell_type": "markdown",
   "id": "78ef7481",
   "metadata": {},
   "source": [
    "### Used to Remove Stopwords from Sentence\n",
    "\n",
    "***Articles: \"a\", \"an\", \"the\" \n",
    "\n",
    "\n",
    "***Prepositions: \"in\", \"on\", \"at\", \"with\"\n",
    "\n",
    "\n",
    "***Pronouns: \"he\", \"she\", \"it\", \"they\"\n",
    "\n",
    "\n",
    "***Common verbs: \"is\", \"am\", \"are\", \"was\", \"were\", \"be\", \"being\", \"been\"\n",
    "\n",
    "\n",
    "***Conjunctions: \"and\", \"but\", \"or\""
   ]
  },
  {
   "cell_type": "code",
   "execution_count": 41,
   "id": "79da3d5b",
   "metadata": {},
   "outputs": [
    {
     "name": "stdout",
     "output_type": "stream",
     "text": [
      "apple day keeps disease bay "
     ]
    }
   ],
   "source": [
    "from nltk.corpus import stopwords\n",
    "stop_words = stopwords.words('english')\n",
    "\n",
    "example_sent = 'An apple is day keeps disease at bay'\n",
    "example_sent=example_sent.lower()\n",
    "\n",
    "word_tokens = word_tokenize(example_sent)\n",
    "for word in word_tokens:\n",
    "    if word not in stop_words:\n",
    "        print(word,end=' ')"
   ]
  },
  {
   "cell_type": "markdown",
   "id": "c96d8160",
   "metadata": {},
   "source": [
    "### Used to Sentence  into tokens and make Data Frame and shows its Count "
   ]
  },
  {
   "cell_type": "code",
   "execution_count": 44,
   "id": "ba1132f9",
   "metadata": {},
   "outputs": [],
   "source": [
    "from sklearn.feature_extraction.text import CountVectorizer\n",
    "Sentences = ['We are using the bag of Word model',\n",
    "            'Bag of Word model is used for extracting the features.']"
   ]
  },
  {
   "cell_type": "code",
   "execution_count": 46,
   "id": "312fb9fb",
   "metadata": {},
   "outputs": [
    {
     "name": "stdout",
     "output_type": "stream",
     "text": [
      "{'we': 11, 'are': 0, 'using': 10, 'the': 8, 'bag': 1, 'of': 7, 'word': 12, 'model': 6, 'is': 5, 'used': 9, 'for': 4, 'extracting': 2, 'features': 3}\n"
     ]
    }
   ],
   "source": [
    "cv= CountVectorizer()\n",
    "features_text = cv.fit_transform(Sentences).toarray()\n",
    "print(cv.vocabulary_)"
   ]
  },
  {
   "cell_type": "code",
   "execution_count": 47,
   "id": "4a73165d",
   "metadata": {},
   "outputs": [
    {
     "data": {
      "text/plain": [
       "array(['are', 'bag', 'extracting', 'features', 'for', 'is', 'model', 'of',\n",
       "       'the', 'used', 'using', 'we', 'word'], dtype=object)"
      ]
     },
     "execution_count": 47,
     "metadata": {},
     "output_type": "execute_result"
    }
   ],
   "source": [
    "cv.get_feature_names_out()"
   ]
  },
  {
   "cell_type": "code",
   "execution_count": 48,
   "id": "8dc0d74b",
   "metadata": {},
   "outputs": [
    {
     "data": {
      "text/plain": [
       "array([[1, 1, 0, 0, 0, 0, 1, 1, 1, 0, 1, 1, 1],\n",
       "       [0, 1, 1, 1, 1, 1, 1, 1, 1, 1, 0, 0, 1]], dtype=int64)"
      ]
     },
     "execution_count": 48,
     "metadata": {},
     "output_type": "execute_result"
    }
   ],
   "source": [
    "features_text"
   ]
  },
  {
   "cell_type": "code",
   "execution_count": 49,
   "id": "0e24ecb3",
   "metadata": {},
   "outputs": [
    {
     "data": {
      "text/html": [
       "<div>\n",
       "<style scoped>\n",
       "    .dataframe tbody tr th:only-of-type {\n",
       "        vertical-align: middle;\n",
       "    }\n",
       "\n",
       "    .dataframe tbody tr th {\n",
       "        vertical-align: top;\n",
       "    }\n",
       "\n",
       "    .dataframe thead th {\n",
       "        text-align: right;\n",
       "    }\n",
       "</style>\n",
       "<table border=\"1\" class=\"dataframe\">\n",
       "  <thead>\n",
       "    <tr style=\"text-align: right;\">\n",
       "      <th></th>\n",
       "      <th>are</th>\n",
       "      <th>bag</th>\n",
       "      <th>extracting</th>\n",
       "      <th>features</th>\n",
       "      <th>for</th>\n",
       "      <th>is</th>\n",
       "      <th>model</th>\n",
       "      <th>of</th>\n",
       "      <th>the</th>\n",
       "      <th>used</th>\n",
       "      <th>using</th>\n",
       "      <th>we</th>\n",
       "      <th>word</th>\n",
       "    </tr>\n",
       "  </thead>\n",
       "  <tbody>\n",
       "    <tr>\n",
       "      <th>0</th>\n",
       "      <td>1</td>\n",
       "      <td>1</td>\n",
       "      <td>0</td>\n",
       "      <td>0</td>\n",
       "      <td>0</td>\n",
       "      <td>0</td>\n",
       "      <td>1</td>\n",
       "      <td>1</td>\n",
       "      <td>1</td>\n",
       "      <td>0</td>\n",
       "      <td>1</td>\n",
       "      <td>1</td>\n",
       "      <td>1</td>\n",
       "    </tr>\n",
       "    <tr>\n",
       "      <th>1</th>\n",
       "      <td>0</td>\n",
       "      <td>1</td>\n",
       "      <td>1</td>\n",
       "      <td>1</td>\n",
       "      <td>1</td>\n",
       "      <td>1</td>\n",
       "      <td>1</td>\n",
       "      <td>1</td>\n",
       "      <td>1</td>\n",
       "      <td>1</td>\n",
       "      <td>0</td>\n",
       "      <td>0</td>\n",
       "      <td>1</td>\n",
       "    </tr>\n",
       "  </tbody>\n",
       "</table>\n",
       "</div>"
      ],
      "text/plain": [
       "   are  bag  extracting  features  for  is  model  of  the  used  using  we  \\\n",
       "0    1    1           0         0    0   0      1   1    1     0      1   1   \n",
       "1    0    1           1         1    1   1      1   1    1     1      0   0   \n",
       "\n",
       "   word  \n",
       "0     1  \n",
       "1     1  "
      ]
     },
     "execution_count": 49,
     "metadata": {},
     "output_type": "execute_result"
    }
   ],
   "source": [
    "import pandas as pd\n",
    "\n",
    "pd.DataFrame(features_text,columns=cv.get_feature_names_out())"
   ]
  },
  {
   "cell_type": "markdown",
   "id": "779f2864",
   "metadata": {},
   "source": [
    "### Used to Sentence  into tokens and make Data Frame and shows its Count "
   ]
  },
  {
   "cell_type": "code",
   "execution_count": 53,
   "id": "4e7ec866",
   "metadata": {},
   "outputs": [],
   "source": [
    "\n",
    "from sklearn.feature_extraction.text import TfidfVectorizer\n",
    "import pandas as pd\n",
    "\n",
    "corpus = [\n",
    "    'Machine learning is fascinating.',\n",
    "    \"Natural language processing is subfield of AI\"\n",
    "    \"Machine learning and natural language processing are used in many applications\"\n",
    "]\n",
    "\n",
    "vectorizer = TfidfVectorizer()\n",
    "tfidf_matrix = vectorizer.fit_transform(corpus)\n",
    "feature_names = vectorizer.get_feature_names_out()"
   ]
  },
  {
   "cell_type": "code",
   "execution_count": 55,
   "id": "d741a56a",
   "metadata": {},
   "outputs": [
    {
     "data": {
      "text/html": [
       "<div>\n",
       "<style scoped>\n",
       "    .dataframe tbody tr th:only-of-type {\n",
       "        vertical-align: middle;\n",
       "    }\n",
       "\n",
       "    .dataframe tbody tr th {\n",
       "        vertical-align: top;\n",
       "    }\n",
       "\n",
       "    .dataframe thead th {\n",
       "        text-align: right;\n",
       "    }\n",
       "</style>\n",
       "<table border=\"1\" class=\"dataframe\">\n",
       "  <thead>\n",
       "    <tr style=\"text-align: right;\">\n",
       "      <th></th>\n",
       "      <th>aimachine</th>\n",
       "      <th>and</th>\n",
       "      <th>applications</th>\n",
       "      <th>are</th>\n",
       "      <th>fascinating</th>\n",
       "      <th>in</th>\n",
       "      <th>is</th>\n",
       "      <th>language</th>\n",
       "      <th>learning</th>\n",
       "      <th>machine</th>\n",
       "      <th>many</th>\n",
       "      <th>natural</th>\n",
       "      <th>of</th>\n",
       "      <th>processing</th>\n",
       "      <th>subfield</th>\n",
       "      <th>used</th>\n",
       "    </tr>\n",
       "  </thead>\n",
       "  <tbody>\n",
       "    <tr>\n",
       "      <th>0</th>\n",
       "      <td>0.00000</td>\n",
       "      <td>0.00000</td>\n",
       "      <td>0.00000</td>\n",
       "      <td>0.00000</td>\n",
       "      <td>0.576152</td>\n",
       "      <td>0.00000</td>\n",
       "      <td>0.409937</td>\n",
       "      <td>0.00000</td>\n",
       "      <td>0.409937</td>\n",
       "      <td>0.576152</td>\n",
       "      <td>0.00000</td>\n",
       "      <td>0.00000</td>\n",
       "      <td>0.00000</td>\n",
       "      <td>0.00000</td>\n",
       "      <td>0.00000</td>\n",
       "      <td>0.00000</td>\n",
       "    </tr>\n",
       "    <tr>\n",
       "      <th>1</th>\n",
       "      <td>0.21314</td>\n",
       "      <td>0.21314</td>\n",
       "      <td>0.21314</td>\n",
       "      <td>0.21314</td>\n",
       "      <td>0.000000</td>\n",
       "      <td>0.21314</td>\n",
       "      <td>0.151651</td>\n",
       "      <td>0.42628</td>\n",
       "      <td>0.151651</td>\n",
       "      <td>0.000000</td>\n",
       "      <td>0.21314</td>\n",
       "      <td>0.42628</td>\n",
       "      <td>0.21314</td>\n",
       "      <td>0.42628</td>\n",
       "      <td>0.21314</td>\n",
       "      <td>0.21314</td>\n",
       "    </tr>\n",
       "  </tbody>\n",
       "</table>\n",
       "</div>"
      ],
      "text/plain": [
       "   aimachine      and  applications      are  fascinating       in        is  \\\n",
       "0    0.00000  0.00000       0.00000  0.00000     0.576152  0.00000  0.409937   \n",
       "1    0.21314  0.21314       0.21314  0.21314     0.000000  0.21314  0.151651   \n",
       "\n",
       "   language  learning   machine     many  natural       of  processing  \\\n",
       "0   0.00000  0.409937  0.576152  0.00000  0.00000  0.00000     0.00000   \n",
       "1   0.42628  0.151651  0.000000  0.21314  0.42628  0.21314     0.42628   \n",
       "\n",
       "   subfield     used  \n",
       "0   0.00000  0.00000  \n",
       "1   0.21314  0.21314  "
      ]
     },
     "execution_count": 55,
     "metadata": {},
     "output_type": "execute_result"
    }
   ],
   "source": [
    "dt_tfidf = pd.DataFrame(data=tfidf_matrix.toarray(),columns=feature_names)\n",
    "dt_tfidf "
   ]
  },
  {
   "cell_type": "code",
   "execution_count": null,
   "id": "49bdc266",
   "metadata": {},
   "outputs": [],
   "source": []
  },
  {
   "cell_type": "code",
   "execution_count": null,
   "id": "db23c4cc",
   "metadata": {},
   "outputs": [],
   "source": []
  }
 ],
 "metadata": {
  "kernelspec": {
   "display_name": "Python 3 (ipykernel)",
   "language": "python",
   "name": "python3"
  },
  "language_info": {
   "codemirror_mode": {
    "name": "ipython",
    "version": 3
   },
   "file_extension": ".py",
   "mimetype": "text/x-python",
   "name": "python",
   "nbconvert_exporter": "python",
   "pygments_lexer": "ipython3",
   "version": "3.9.12"
  }
 },
 "nbformat": 4,
 "nbformat_minor": 5
}
