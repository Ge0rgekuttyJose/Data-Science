{
 "cells": [
  {
   "cell_type": "markdown",
   "id": "1bb36c75",
   "metadata": {},
   "source": [
    "### Sentiment Analysis of a Sentence Using Navie Bayes MultinomialNB "
   ]
  },
  {
   "cell_type": "code",
   "execution_count": 1,
   "id": "bd3fd8e1",
   "metadata": {},
   "outputs": [],
   "source": [
    "import pandas as pd\n",
    "from sklearn.model_selection import train_test_split \n",
    "\n",
    "from sklearn.feature_extraction.text import CountVectorizer\n",
    "from sklearn.naive_bayes import MultinomialNB "
   ]
  },
  {
   "cell_type": "markdown",
   "id": "17dd8740",
   "metadata": {},
   "source": [
    "### Reading the datasets"
   ]
  },
  {
   "cell_type": "code",
   "execution_count": 2,
   "id": "4a08dd09",
   "metadata": {},
   "outputs": [
    {
     "data": {
      "text/html": [
       "<div>\n",
       "<style scoped>\n",
       "    .dataframe tbody tr th:only-of-type {\n",
       "        vertical-align: middle;\n",
       "    }\n",
       "\n",
       "    .dataframe tbody tr th {\n",
       "        vertical-align: top;\n",
       "    }\n",
       "\n",
       "    .dataframe thead th {\n",
       "        text-align: right;\n",
       "    }\n",
       "</style>\n",
       "<table border=\"1\" class=\"dataframe\">\n",
       "  <thead>\n",
       "    <tr style=\"text-align: right;\">\n",
       "      <th></th>\n",
       "      <th>reviewText</th>\n",
       "      <th>Positive</th>\n",
       "    </tr>\n",
       "  </thead>\n",
       "  <tbody>\n",
       "    <tr>\n",
       "      <th>0</th>\n",
       "      <td>This is a one of the best apps acording to a b...</td>\n",
       "      <td>1</td>\n",
       "    </tr>\n",
       "    <tr>\n",
       "      <th>1</th>\n",
       "      <td>This is a pretty good version of the game for ...</td>\n",
       "      <td>1</td>\n",
       "    </tr>\n",
       "    <tr>\n",
       "      <th>2</th>\n",
       "      <td>this is a really cool game. there are a bunch ...</td>\n",
       "      <td>1</td>\n",
       "    </tr>\n",
       "    <tr>\n",
       "      <th>3</th>\n",
       "      <td>This is a silly game and can be frustrating, b...</td>\n",
       "      <td>1</td>\n",
       "    </tr>\n",
       "    <tr>\n",
       "      <th>4</th>\n",
       "      <td>This is a terrific game on any pad. Hrs of fun...</td>\n",
       "      <td>1</td>\n",
       "    </tr>\n",
       "    <tr>\n",
       "      <th>...</th>\n",
       "      <td>...</td>\n",
       "      <td>...</td>\n",
       "    </tr>\n",
       "    <tr>\n",
       "      <th>19995</th>\n",
       "      <td>this app is fricken stupid.it froze on the kin...</td>\n",
       "      <td>0</td>\n",
       "    </tr>\n",
       "    <tr>\n",
       "      <th>19996</th>\n",
       "      <td>Please add me!!!!! I need neighbors! Ginger101...</td>\n",
       "      <td>1</td>\n",
       "    </tr>\n",
       "    <tr>\n",
       "      <th>19997</th>\n",
       "      <td>love it!  this game. is awesome. wish it had m...</td>\n",
       "      <td>1</td>\n",
       "    </tr>\n",
       "    <tr>\n",
       "      <th>19998</th>\n",
       "      <td>I love love love this app on my side of fashio...</td>\n",
       "      <td>1</td>\n",
       "    </tr>\n",
       "    <tr>\n",
       "      <th>19999</th>\n",
       "      <td>This game is a rip off. Here is a list of thin...</td>\n",
       "      <td>0</td>\n",
       "    </tr>\n",
       "  </tbody>\n",
       "</table>\n",
       "<p>20000 rows × 2 columns</p>\n",
       "</div>"
      ],
      "text/plain": [
       "                                              reviewText  Positive\n",
       "0      This is a one of the best apps acording to a b...         1\n",
       "1      This is a pretty good version of the game for ...         1\n",
       "2      this is a really cool game. there are a bunch ...         1\n",
       "3      This is a silly game and can be frustrating, b...         1\n",
       "4      This is a terrific game on any pad. Hrs of fun...         1\n",
       "...                                                  ...       ...\n",
       "19995  this app is fricken stupid.it froze on the kin...         0\n",
       "19996  Please add me!!!!! I need neighbors! Ginger101...         1\n",
       "19997  love it!  this game. is awesome. wish it had m...         1\n",
       "19998  I love love love this app on my side of fashio...         1\n",
       "19999  This game is a rip off. Here is a list of thin...         0\n",
       "\n",
       "[20000 rows x 2 columns]"
      ]
     },
     "execution_count": 2,
     "metadata": {},
     "output_type": "execute_result"
    }
   ],
   "source": [
    "data = pd.read_csv('amazon.csv')\n",
    "data"
   ]
  },
  {
   "cell_type": "code",
   "execution_count": 3,
   "id": "6225fa1c",
   "metadata": {},
   "outputs": [
    {
     "data": {
      "text/plain": [
       "Index(['reviewText', 'Positive'], dtype='object')"
      ]
     },
     "execution_count": 3,
     "metadata": {},
     "output_type": "execute_result"
    }
   ],
   "source": [
    "data.columns"
   ]
  },
  {
   "cell_type": "markdown",
   "id": "8212d9ff",
   "metadata": {},
   "source": [
    "### Spliting into X and Y "
   ]
  },
  {
   "cell_type": "code",
   "execution_count": 4,
   "id": "1bcc7639",
   "metadata": {},
   "outputs": [],
   "source": [
    "x=data.reviewText\n",
    "y=data.Positive"
   ]
  },
  {
   "cell_type": "markdown",
   "id": "ce4074e0",
   "metadata": {},
   "source": [
    "### Spliting into train and test "
   ]
  },
  {
   "cell_type": "code",
   "execution_count": 5,
   "id": "59093e9f",
   "metadata": {},
   "outputs": [],
   "source": [
    "x_train,x_test,y_train,y_test=train_test_split(x,y,test_size=0.3,random_state=15)"
   ]
  },
  {
   "cell_type": "markdown",
   "id": "fb075e31",
   "metadata": {},
   "source": [
    "### Text Documents Into  numerical matrix of word or token counts"
   ]
  },
  {
   "cell_type": "code",
   "execution_count": 6,
   "id": "3bb683ee",
   "metadata": {},
   "outputs": [],
   "source": [
    "cv= CountVectorizer()\n",
    "x_train_counter = cv.fit_transform(x_train.values)"
   ]
  },
  {
   "cell_type": "code",
   "execution_count": 7,
   "id": "75ef2bed",
   "metadata": {},
   "outputs": [
    {
     "data": {
      "text/plain": [
       "array(['00', '000', '007', ..., 'zzz', 'zzzz', 'zzzzz'], dtype=object)"
      ]
     },
     "execution_count": 7,
     "metadata": {},
     "output_type": "execute_result"
    }
   ],
   "source": [
    "cv.get_feature_names_out()"
   ]
  },
  {
   "cell_type": "code",
   "execution_count": 8,
   "id": "294e784f",
   "metadata": {},
   "outputs": [
    {
     "data": {
      "text/plain": [
       "<14000x15505 sparse matrix of type '<class 'numpy.int64'>'\n",
       "\twith 378416 stored elements in Compressed Sparse Row format>"
      ]
     },
     "execution_count": 8,
     "metadata": {},
     "output_type": "execute_result"
    }
   ],
   "source": [
    "x_train_counter"
   ]
  },
  {
   "cell_type": "code",
   "execution_count": 9,
   "id": "10efcad0",
   "metadata": {},
   "outputs": [],
   "source": [
    "x_train=pd.DataFrame(x_train_counter.toarray(),\n",
    "                    columns=cv.get_feature_names_out())"
   ]
  },
  {
   "cell_type": "markdown",
   "id": "9015b1ae",
   "metadata": {},
   "source": [
    "### Preprocessing Sentence data into Tokens as Data frame"
   ]
  },
  {
   "cell_type": "code",
   "execution_count": 10,
   "id": "754f2af8",
   "metadata": {},
   "outputs": [
    {
     "data": {
      "text/html": [
       "<div>\n",
       "<style scoped>\n",
       "    .dataframe tbody tr th:only-of-type {\n",
       "        vertical-align: middle;\n",
       "    }\n",
       "\n",
       "    .dataframe tbody tr th {\n",
       "        vertical-align: top;\n",
       "    }\n",
       "\n",
       "    .dataframe thead th {\n",
       "        text-align: right;\n",
       "    }\n",
       "</style>\n",
       "<table border=\"1\" class=\"dataframe\">\n",
       "  <thead>\n",
       "    <tr style=\"text-align: right;\">\n",
       "      <th></th>\n",
       "      <th>00</th>\n",
       "      <th>000</th>\n",
       "      <th>007</th>\n",
       "      <th>00am</th>\n",
       "      <th>01</th>\n",
       "      <th>017</th>\n",
       "      <th>02</th>\n",
       "      <th>04</th>\n",
       "      <th>05</th>\n",
       "      <th>06</th>\n",
       "      <th>...</th>\n",
       "      <th>zoo</th>\n",
       "      <th>zoology</th>\n",
       "      <th>zoom</th>\n",
       "      <th>zooming</th>\n",
       "      <th>zpg</th>\n",
       "      <th>zumocast</th>\n",
       "      <th>zz</th>\n",
       "      <th>zzz</th>\n",
       "      <th>zzzz</th>\n",
       "      <th>zzzzz</th>\n",
       "    </tr>\n",
       "  </thead>\n",
       "  <tbody>\n",
       "    <tr>\n",
       "      <th>0</th>\n",
       "      <td>0</td>\n",
       "      <td>0</td>\n",
       "      <td>0</td>\n",
       "      <td>0</td>\n",
       "      <td>0</td>\n",
       "      <td>0</td>\n",
       "      <td>0</td>\n",
       "      <td>0</td>\n",
       "      <td>0</td>\n",
       "      <td>0</td>\n",
       "      <td>...</td>\n",
       "      <td>0</td>\n",
       "      <td>0</td>\n",
       "      <td>0</td>\n",
       "      <td>0</td>\n",
       "      <td>0</td>\n",
       "      <td>0</td>\n",
       "      <td>0</td>\n",
       "      <td>0</td>\n",
       "      <td>0</td>\n",
       "      <td>0</td>\n",
       "    </tr>\n",
       "    <tr>\n",
       "      <th>1</th>\n",
       "      <td>0</td>\n",
       "      <td>0</td>\n",
       "      <td>0</td>\n",
       "      <td>0</td>\n",
       "      <td>0</td>\n",
       "      <td>0</td>\n",
       "      <td>0</td>\n",
       "      <td>0</td>\n",
       "      <td>0</td>\n",
       "      <td>0</td>\n",
       "      <td>...</td>\n",
       "      <td>0</td>\n",
       "      <td>0</td>\n",
       "      <td>0</td>\n",
       "      <td>0</td>\n",
       "      <td>0</td>\n",
       "      <td>0</td>\n",
       "      <td>0</td>\n",
       "      <td>0</td>\n",
       "      <td>0</td>\n",
       "      <td>0</td>\n",
       "    </tr>\n",
       "    <tr>\n",
       "      <th>2</th>\n",
       "      <td>0</td>\n",
       "      <td>0</td>\n",
       "      <td>0</td>\n",
       "      <td>0</td>\n",
       "      <td>0</td>\n",
       "      <td>0</td>\n",
       "      <td>0</td>\n",
       "      <td>0</td>\n",
       "      <td>0</td>\n",
       "      <td>0</td>\n",
       "      <td>...</td>\n",
       "      <td>0</td>\n",
       "      <td>0</td>\n",
       "      <td>0</td>\n",
       "      <td>0</td>\n",
       "      <td>0</td>\n",
       "      <td>0</td>\n",
       "      <td>0</td>\n",
       "      <td>0</td>\n",
       "      <td>0</td>\n",
       "      <td>0</td>\n",
       "    </tr>\n",
       "    <tr>\n",
       "      <th>3</th>\n",
       "      <td>0</td>\n",
       "      <td>0</td>\n",
       "      <td>0</td>\n",
       "      <td>0</td>\n",
       "      <td>0</td>\n",
       "      <td>0</td>\n",
       "      <td>0</td>\n",
       "      <td>0</td>\n",
       "      <td>0</td>\n",
       "      <td>0</td>\n",
       "      <td>...</td>\n",
       "      <td>0</td>\n",
       "      <td>0</td>\n",
       "      <td>0</td>\n",
       "      <td>0</td>\n",
       "      <td>0</td>\n",
       "      <td>0</td>\n",
       "      <td>0</td>\n",
       "      <td>0</td>\n",
       "      <td>0</td>\n",
       "      <td>0</td>\n",
       "    </tr>\n",
       "    <tr>\n",
       "      <th>4</th>\n",
       "      <td>0</td>\n",
       "      <td>0</td>\n",
       "      <td>0</td>\n",
       "      <td>0</td>\n",
       "      <td>0</td>\n",
       "      <td>0</td>\n",
       "      <td>0</td>\n",
       "      <td>0</td>\n",
       "      <td>0</td>\n",
       "      <td>0</td>\n",
       "      <td>...</td>\n",
       "      <td>0</td>\n",
       "      <td>0</td>\n",
       "      <td>0</td>\n",
       "      <td>0</td>\n",
       "      <td>0</td>\n",
       "      <td>0</td>\n",
       "      <td>0</td>\n",
       "      <td>0</td>\n",
       "      <td>0</td>\n",
       "      <td>0</td>\n",
       "    </tr>\n",
       "    <tr>\n",
       "      <th>...</th>\n",
       "      <td>...</td>\n",
       "      <td>...</td>\n",
       "      <td>...</td>\n",
       "      <td>...</td>\n",
       "      <td>...</td>\n",
       "      <td>...</td>\n",
       "      <td>...</td>\n",
       "      <td>...</td>\n",
       "      <td>...</td>\n",
       "      <td>...</td>\n",
       "      <td>...</td>\n",
       "      <td>...</td>\n",
       "      <td>...</td>\n",
       "      <td>...</td>\n",
       "      <td>...</td>\n",
       "      <td>...</td>\n",
       "      <td>...</td>\n",
       "      <td>...</td>\n",
       "      <td>...</td>\n",
       "      <td>...</td>\n",
       "      <td>...</td>\n",
       "    </tr>\n",
       "    <tr>\n",
       "      <th>13995</th>\n",
       "      <td>0</td>\n",
       "      <td>0</td>\n",
       "      <td>0</td>\n",
       "      <td>0</td>\n",
       "      <td>0</td>\n",
       "      <td>0</td>\n",
       "      <td>0</td>\n",
       "      <td>0</td>\n",
       "      <td>0</td>\n",
       "      <td>0</td>\n",
       "      <td>...</td>\n",
       "      <td>0</td>\n",
       "      <td>0</td>\n",
       "      <td>0</td>\n",
       "      <td>0</td>\n",
       "      <td>0</td>\n",
       "      <td>0</td>\n",
       "      <td>0</td>\n",
       "      <td>0</td>\n",
       "      <td>0</td>\n",
       "      <td>0</td>\n",
       "    </tr>\n",
       "    <tr>\n",
       "      <th>13996</th>\n",
       "      <td>0</td>\n",
       "      <td>0</td>\n",
       "      <td>0</td>\n",
       "      <td>0</td>\n",
       "      <td>0</td>\n",
       "      <td>0</td>\n",
       "      <td>0</td>\n",
       "      <td>0</td>\n",
       "      <td>0</td>\n",
       "      <td>0</td>\n",
       "      <td>...</td>\n",
       "      <td>0</td>\n",
       "      <td>0</td>\n",
       "      <td>0</td>\n",
       "      <td>0</td>\n",
       "      <td>0</td>\n",
       "      <td>0</td>\n",
       "      <td>0</td>\n",
       "      <td>0</td>\n",
       "      <td>0</td>\n",
       "      <td>0</td>\n",
       "    </tr>\n",
       "    <tr>\n",
       "      <th>13997</th>\n",
       "      <td>0</td>\n",
       "      <td>1</td>\n",
       "      <td>0</td>\n",
       "      <td>0</td>\n",
       "      <td>0</td>\n",
       "      <td>0</td>\n",
       "      <td>0</td>\n",
       "      <td>0</td>\n",
       "      <td>0</td>\n",
       "      <td>0</td>\n",
       "      <td>...</td>\n",
       "      <td>0</td>\n",
       "      <td>0</td>\n",
       "      <td>0</td>\n",
       "      <td>0</td>\n",
       "      <td>0</td>\n",
       "      <td>0</td>\n",
       "      <td>0</td>\n",
       "      <td>0</td>\n",
       "      <td>0</td>\n",
       "      <td>0</td>\n",
       "    </tr>\n",
       "    <tr>\n",
       "      <th>13998</th>\n",
       "      <td>0</td>\n",
       "      <td>0</td>\n",
       "      <td>0</td>\n",
       "      <td>0</td>\n",
       "      <td>0</td>\n",
       "      <td>0</td>\n",
       "      <td>0</td>\n",
       "      <td>0</td>\n",
       "      <td>0</td>\n",
       "      <td>0</td>\n",
       "      <td>...</td>\n",
       "      <td>0</td>\n",
       "      <td>0</td>\n",
       "      <td>0</td>\n",
       "      <td>0</td>\n",
       "      <td>0</td>\n",
       "      <td>0</td>\n",
       "      <td>0</td>\n",
       "      <td>0</td>\n",
       "      <td>0</td>\n",
       "      <td>0</td>\n",
       "    </tr>\n",
       "    <tr>\n",
       "      <th>13999</th>\n",
       "      <td>0</td>\n",
       "      <td>0</td>\n",
       "      <td>0</td>\n",
       "      <td>0</td>\n",
       "      <td>0</td>\n",
       "      <td>0</td>\n",
       "      <td>0</td>\n",
       "      <td>0</td>\n",
       "      <td>0</td>\n",
       "      <td>0</td>\n",
       "      <td>...</td>\n",
       "      <td>0</td>\n",
       "      <td>0</td>\n",
       "      <td>0</td>\n",
       "      <td>0</td>\n",
       "      <td>0</td>\n",
       "      <td>0</td>\n",
       "      <td>0</td>\n",
       "      <td>0</td>\n",
       "      <td>0</td>\n",
       "      <td>0</td>\n",
       "    </tr>\n",
       "  </tbody>\n",
       "</table>\n",
       "<p>14000 rows × 15505 columns</p>\n",
       "</div>"
      ],
      "text/plain": [
       "       00  000  007  00am  01  017  02  04  05  06  ...  zoo  zoology  zoom  \\\n",
       "0       0    0    0     0   0    0   0   0   0   0  ...    0        0     0   \n",
       "1       0    0    0     0   0    0   0   0   0   0  ...    0        0     0   \n",
       "2       0    0    0     0   0    0   0   0   0   0  ...    0        0     0   \n",
       "3       0    0    0     0   0    0   0   0   0   0  ...    0        0     0   \n",
       "4       0    0    0     0   0    0   0   0   0   0  ...    0        0     0   \n",
       "...    ..  ...  ...   ...  ..  ...  ..  ..  ..  ..  ...  ...      ...   ...   \n",
       "13995   0    0    0     0   0    0   0   0   0   0  ...    0        0     0   \n",
       "13996   0    0    0     0   0    0   0   0   0   0  ...    0        0     0   \n",
       "13997   0    1    0     0   0    0   0   0   0   0  ...    0        0     0   \n",
       "13998   0    0    0     0   0    0   0   0   0   0  ...    0        0     0   \n",
       "13999   0    0    0     0   0    0   0   0   0   0  ...    0        0     0   \n",
       "\n",
       "       zooming  zpg  zumocast  zz  zzz  zzzz  zzzzz  \n",
       "0            0    0         0   0    0     0      0  \n",
       "1            0    0         0   0    0     0      0  \n",
       "2            0    0         0   0    0     0      0  \n",
       "3            0    0         0   0    0     0      0  \n",
       "4            0    0         0   0    0     0      0  \n",
       "...        ...  ...       ...  ..  ...   ...    ...  \n",
       "13995        0    0         0   0    0     0      0  \n",
       "13996        0    0         0   0    0     0      0  \n",
       "13997        0    0         0   0    0     0      0  \n",
       "13998        0    0         0   0    0     0      0  \n",
       "13999        0    0         0   0    0     0      0  \n",
       "\n",
       "[14000 rows x 15505 columns]"
      ]
     },
     "execution_count": 10,
     "metadata": {},
     "output_type": "execute_result"
    }
   ],
   "source": [
    "x_train"
   ]
  },
  {
   "cell_type": "markdown",
   "id": "d65b163a",
   "metadata": {},
   "source": [
    "### Creating a Model"
   ]
  },
  {
   "cell_type": "code",
   "execution_count": 11,
   "id": "5b4203f4",
   "metadata": {},
   "outputs": [],
   "source": [
    "model = MultinomialNB()"
   ]
  },
  {
   "cell_type": "markdown",
   "id": "e8b2d0bb",
   "metadata": {},
   "source": [
    "### Training a model"
   ]
  },
  {
   "cell_type": "code",
   "execution_count": 12,
   "id": "15a136f4",
   "metadata": {},
   "outputs": [
    {
     "data": {
      "text/plain": [
       "MultinomialNB()"
      ]
     },
     "execution_count": 12,
     "metadata": {},
     "output_type": "execute_result"
    }
   ],
   "source": [
    "model.fit(x_train,y_train)"
   ]
  },
  {
   "cell_type": "markdown",
   "id": "53cc94c5",
   "metadata": {},
   "source": [
    "### Training Score"
   ]
  },
  {
   "cell_type": "code",
   "execution_count": 13,
   "id": "50e853f9",
   "metadata": {},
   "outputs": [
    {
     "data": {
      "text/plain": [
       "0.9332857142857143"
      ]
     },
     "execution_count": 13,
     "metadata": {},
     "output_type": "execute_result"
    }
   ],
   "source": [
    "model.score(x_train,y_train)"
   ]
  },
  {
   "cell_type": "markdown",
   "id": "b10fa537",
   "metadata": {},
   "source": [
    "### Predicting based on test data"
   ]
  },
  {
   "cell_type": "code",
   "execution_count": 14,
   "id": "8e4044db",
   "metadata": {},
   "outputs": [
    {
     "name": "stderr",
     "output_type": "stream",
     "text": [
      "C:\\Users\\gkcha\\anaconda3\\lib\\site-packages\\sklearn\\base.py:450: UserWarning: X does not have valid feature names, but MultinomialNB was fitted with feature names\n",
      "  warnings.warn(\n"
     ]
    },
    {
     "data": {
      "text/plain": [
       "array([0, 0, 1, ..., 0, 0, 1], dtype=int64)"
      ]
     },
     "execution_count": 14,
     "metadata": {},
     "output_type": "execute_result"
    }
   ],
   "source": [
    "model.predict(cv.transform(x_test))"
   ]
  },
  {
   "cell_type": "markdown",
   "id": "4e942c45",
   "metadata": {},
   "source": [
    "### Testing Score"
   ]
  },
  {
   "cell_type": "code",
   "execution_count": 15,
   "id": "e29f0e7e",
   "metadata": {},
   "outputs": [
    {
     "data": {
      "text/plain": [
       "0.9005"
      ]
     },
     "execution_count": 15,
     "metadata": {},
     "output_type": "execute_result"
    }
   ],
   "source": [
    "model.score(cv.transform(x_test),y_test)"
   ]
  },
  {
   "cell_type": "markdown",
   "id": "84e13a23",
   "metadata": {},
   "source": [
    "### Custom Prediction "
   ]
  },
  {
   "cell_type": "code",
   "execution_count": 16,
   "id": "7ba95c4e",
   "metadata": {},
   "outputs": [],
   "source": [
    "text = ['worst experience ever',\n",
    "       'the app is really awesome inevitable']"
   ]
  },
  {
   "cell_type": "code",
   "execution_count": 17,
   "id": "1cad33b4",
   "metadata": {},
   "outputs": [
    {
     "name": "stderr",
     "output_type": "stream",
     "text": [
      "C:\\Users\\gkcha\\anaconda3\\lib\\site-packages\\sklearn\\base.py:450: UserWarning: X does not have valid feature names, but MultinomialNB was fitted with feature names\n",
      "  warnings.warn(\n"
     ]
    },
    {
     "data": {
      "text/plain": [
       "array([0, 1], dtype=int64)"
      ]
     },
     "execution_count": 17,
     "metadata": {},
     "output_type": "execute_result"
    }
   ],
   "source": [
    "model.predict(cv.transform(text))"
   ]
  },
  {
   "cell_type": "code",
   "execution_count": 18,
   "id": "b65775ec",
   "metadata": {},
   "outputs": [],
   "source": [
    "x_=pd.DataFrame(cv.transform(text).toarray(),\n",
    "                    columns=cv.get_feature_names_out())"
   ]
  },
  {
   "cell_type": "code",
   "execution_count": 19,
   "id": "715c9a24",
   "metadata": {},
   "outputs": [],
   "source": [
    "df =x_"
   ]
  },
  {
   "cell_type": "code",
   "execution_count": 20,
   "id": "c70ed78d",
   "metadata": {},
   "outputs": [
    {
     "name": "stdout",
     "output_type": "stream",
     "text": [
      "app           1\n",
      "awesome       1\n",
      "ever          1\n",
      "experience    1\n",
      "is            1\n",
      "really        1\n",
      "the           1\n",
      "worst         1\n",
      "dtype: int64\n"
     ]
    }
   ],
   "source": [
    "# Count the number of non-zero entries in each column\n",
    "non_zero_counts = (df != 0).sum()\n",
    "\n",
    "# Filter to only include columns with non-zero counts\n",
    "non_zero_columns = non_zero_counts[non_zero_counts > 0]\n",
    "\n",
    "# Display the columns and their non-zero counts\n",
    "print(non_zero_columns)"
   ]
  },
  {
   "cell_type": "code",
   "execution_count": 21,
   "id": "a9f343c7",
   "metadata": {},
   "outputs": [],
   "source": [
    "# inevitable is not in the data frame becaues the word is not in training data set which is used for prediction"
   ]
  },
  {
   "cell_type": "code",
   "execution_count": null,
   "id": "58756464",
   "metadata": {},
   "outputs": [],
   "source": []
  }
 ],
 "metadata": {
  "kernelspec": {
   "display_name": "Python 3 (ipykernel)",
   "language": "python",
   "name": "python3"
  },
  "language_info": {
   "codemirror_mode": {
    "name": "ipython",
    "version": 3
   },
   "file_extension": ".py",
   "mimetype": "text/x-python",
   "name": "python",
   "nbconvert_exporter": "python",
   "pygments_lexer": "ipython3",
   "version": "3.9.12"
  }
 },
 "nbformat": 4,
 "nbformat_minor": 5
}
