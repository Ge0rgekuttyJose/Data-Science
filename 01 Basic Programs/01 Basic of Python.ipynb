{
 "cells": [
  {
   "cell_type": "markdown",
   "id": "14890117",
   "metadata": {},
   "source": [
    "### Assigning Variables and Values"
   ]
  },
  {
   "cell_type": "code",
   "execution_count": 1,
   "id": "bd406746",
   "metadata": {},
   "outputs": [
    {
     "name": "stdout",
     "output_type": "stream",
     "text": [
      "a= 10 b= 100\n"
     ]
    }
   ],
   "source": [
    "a,b=10,100\n",
    "print('a=',a,'b=',b)"
   ]
  },
  {
   "cell_type": "markdown",
   "id": "a7141feb",
   "metadata": {},
   "source": [
    "### Checking Types of Variables"
   ]
  },
  {
   "cell_type": "code",
   "execution_count": 2,
   "id": "87095954",
   "metadata": {},
   "outputs": [
    {
     "name": "stdout",
     "output_type": "stream",
     "text": [
      "<class 'float'>\n",
      "<class 'bool'>\n",
      "<class 'str'>\n"
     ]
    }
   ],
   "source": [
    "a=10.0\n",
    "b=True\n",
    "c=\"gk\"\n",
    "print(type(a))\n",
    "print(type(b))\n",
    "print(type(c))"
   ]
  },
  {
   "cell_type": "markdown",
   "id": "81b7de0d",
   "metadata": {},
   "source": [
    "### Changing the Types"
   ]
  },
  {
   "cell_type": "code",
   "execution_count": 3,
   "id": "9f82313c",
   "metadata": {},
   "outputs": [
    {
     "name": "stdout",
     "output_type": "stream",
     "text": [
      "10\n",
      "Type of a Before : <class 'int'>\n",
      "Type of a After : <class 'float'>\n",
      "Type of a After : <class 'str'>\n"
     ]
    }
   ],
   "source": [
    "a=10\n",
    "\n",
    "print(a)\n",
    "print(\"Type of a Before :\",type(a))\n",
    "\n",
    "a=float(a)\n",
    "print(\"Type of a After :\",type(a))\n",
    "\n",
    "\n",
    "a=str(a)\n",
    "print(\"Type of a After :\",type(a))\n"
   ]
  },
  {
   "cell_type": "markdown",
   "id": "3774d729",
   "metadata": {},
   "source": [
    "### Basic Arithmetic Operations"
   ]
  },
  {
   "cell_type": "code",
   "execution_count": 4,
   "id": "c8b1e2c6",
   "metadata": {},
   "outputs": [
    {
     "name": "stdout",
     "output_type": "stream",
     "text": [
      "Addition =  17\n",
      "Subtraction =  3\n",
      "Multiplication =  70\n",
      "Division =  1.4285714285714286\n",
      "Modules =  3\n",
      "Integer Division =  1\n",
      "Exponential =  10000000\n"
     ]
    }
   ],
   "source": [
    "a=10\n",
    "b=7\n",
    "\n",
    "print(\"Addition = \",a+b)\n",
    "print(\"Subtraction = \",a-b)\n",
    "print(\"Multiplication = \",a*b)\n",
    "print(\"Division = \",a/b)\n",
    "print(\"Modules = \",a%b)\n",
    "print(\"Integer Division = \",a//b)\n",
    "print(\"Exponential = \",a**b)\n"
   ]
  },
  {
   "cell_type": "markdown",
   "id": "fd82b438",
   "metadata": {},
   "source": [
    "### Basic Relational Operators"
   ]
  },
  {
   "cell_type": "code",
   "execution_count": 5,
   "id": "b43d6798",
   "metadata": {},
   "outputs": [
    {
     "name": "stdout",
     "output_type": "stream",
     "text": [
      "1 X is Greater than Y: False\n",
      "2 X is Greater than or Equal to Y: False\n",
      "3 X is Less than Y: True\n",
      "4 X is Less than or Equal to Y: True\n",
      "5 X Equal to Y: False\n",
      "6 X Not Equal to Y: True\n"
     ]
    }
   ],
   "source": [
    "x=8\n",
    "y=9\n",
    "z=8\n",
    "\n",
    "print('1 X is Greater than Y:',x>y)\n",
    "print('2 X is Greater than or Equal to Y:',x>=y)\n",
    "print('3 X is Less than Y:',x<y)\n",
    "print('4 X is Less than or Equal to Y:',x<=y)\n",
    "print('5 X Equal to Y:',x==y)\n",
    "print('6 X Not Equal to Y:',x!=y)"
   ]
  },
  {
   "cell_type": "markdown",
   "id": "7e65e4b0",
   "metadata": {},
   "source": [
    "### Logical Operators"
   ]
  },
  {
   "cell_type": "code",
   "execution_count": 6,
   "id": "0a13fdd6",
   "metadata": {},
   "outputs": [
    {
     "name": "stdout",
     "output_type": "stream",
     "text": [
      "X is Less than 10 AND y is Less than 10 : True\n",
      "X is Less than 10 AND y is Greater  than 10 : False\n",
      "X is Less than 10 OR y is Less than 10 : True\n"
     ]
    }
   ],
   "source": [
    "x=1\n",
    "y=2\n",
    "\n",
    "print(\"X is Less than 10 AND y is Less than 10 :\",x<10 and y<10)\n",
    "print(\"X is Less than 10 AND y is Greater  than 10 :\",x<10 and y>10)\n",
    "print(\"X is Less than 10 OR y is Less than 10 :\",x<10 or y>10)\n"
   ]
  },
  {
   "cell_type": "markdown",
   "id": "42f54a5a",
   "metadata": {},
   "source": [
    "### ID\n",
    "The id() function in Python is a built-in function that returns the unique identifier (memory address) for a given object."
   ]
  },
  {
   "cell_type": "code",
   "execution_count": 9,
   "id": "bf492939",
   "metadata": {},
   "outputs": [
    {
     "name": "stdout",
     "output_type": "stream",
     "text": [
      "1985895819856\n",
      "1985982606384\n"
     ]
    }
   ],
   "source": [
    "a = 10\n",
    "print(id(a))\n",
    "\n",
    "b = \"Hello\"\n",
    "print(id(b))\n"
   ]
  },
  {
   "cell_type": "markdown",
   "id": "9a28c249",
   "metadata": {},
   "source": [
    "### Taking Input from Users"
   ]
  },
  {
   "cell_type": "code",
   "execution_count": 7,
   "id": "a3bf614b",
   "metadata": {},
   "outputs": [
    {
     "name": "stdout",
     "output_type": "stream",
     "text": [
      "Enter your name : georgekutty\n",
      "Hello  georgekutty\n"
     ]
    }
   ],
   "source": [
    "name=input(\"Enter your name : \")\n",
    "print(\"Hello \",name)"
   ]
  },
  {
   "cell_type": "markdown",
   "id": "2203d616",
   "metadata": {},
   "source": [
    "### DECISION MAKING STATEMENT"
   ]
  },
  {
   "cell_type": "markdown",
   "id": "9590c89f",
   "metadata": {},
   "source": [
    "### IF Condition"
   ]
  },
  {
   "cell_type": "code",
   "execution_count": 8,
   "id": "39169e15",
   "metadata": {},
   "outputs": [
    {
     "name": "stdout",
     "output_type": "stream",
     "text": [
      "enter a number 5\n",
      "The number is postive\n"
     ]
    }
   ],
   "source": [
    "num=int(input(\"enter a number \"))\n",
    "if num>0:\n",
    "    print(\"The number is postive\")"
   ]
  },
  {
   "cell_type": "markdown",
   "id": "817df6e8",
   "metadata": {},
   "source": [
    "### IF ELSE Condition"
   ]
  },
  {
   "cell_type": "code",
   "execution_count": 9,
   "id": "4f77e163",
   "metadata": {},
   "outputs": [
    {
     "name": "stdout",
     "output_type": "stream",
     "text": [
      "enter a number 5\n",
      "The number is postive\n"
     ]
    }
   ],
   "source": [
    "\n",
    "\n",
    "num=int(input(\"enter a number \"))\n",
    "if num>0:\n",
    "    print(\"The number is postive\")\n",
    "else:\n",
    "    print(\"The number is negative\")"
   ]
  },
  {
   "cell_type": "markdown",
   "id": "7514fc6e",
   "metadata": {},
   "source": [
    "### IF ELIF Condition\n"
   ]
  },
  {
   "cell_type": "code",
   "execution_count": 10,
   "id": "428785ba",
   "metadata": {},
   "outputs": [
    {
     "name": "stdout",
     "output_type": "stream",
     "text": [
      "enter a number 0\n",
      "The number is Zero\n"
     ]
    }
   ],
   "source": [
    "\n",
    "num=int(input(\"enter a number \"))\n",
    "if num>0:\n",
    "    print(\"The number is Postive\")\n",
    "elif num<0:\n",
    "    print(\"The number is Negative\")\n",
    "else:\n",
    "    print(\"The number is Zero\")"
   ]
  },
  {
   "cell_type": "markdown",
   "id": "1ec9ea1b",
   "metadata": {},
   "source": [
    "### NESTED IF\n"
   ]
  },
  {
   "cell_type": "code",
   "execution_count": 11,
   "id": "7e0e4acf",
   "metadata": {},
   "outputs": [
    {
     "name": "stdout",
     "output_type": "stream",
     "text": [
      "5\n",
      "The number lies between 1 and 10\n"
     ]
    }
   ],
   "source": [
    "\n",
    "num = int(input())\n",
    "\n",
    "if num>1:\n",
    "    if num<10:\n",
    "        print('The number lies between 1 and 10')\n",
    "    else:\n",
    "        print('The number is greather than 1 but not less than 10')\n",
    "else:\n",
    "    print('The number is less than 1')"
   ]
  },
  {
   "cell_type": "markdown",
   "id": "da4114ed",
   "metadata": {},
   "source": [
    "### FOR LOOP\n"
   ]
  },
  {
   "cell_type": "code",
   "execution_count": 12,
   "id": "e9346da8",
   "metadata": {},
   "outputs": [
    {
     "name": "stdout",
     "output_type": "stream",
     "text": [
      "0\n",
      "1\n",
      "2\n",
      "3\n",
      "4\n",
      "5\n",
      "6\n",
      "7\n",
      "8\n",
      "9\n"
     ]
    }
   ],
   "source": [
    "#printing from 0 to N-1 \n",
    "\n",
    "for i in range(10):\n",
    "    print(i)"
   ]
  },
  {
   "cell_type": "code",
   "execution_count": 13,
   "id": "1743d422",
   "metadata": {},
   "outputs": [
    {
     "name": "stdout",
     "output_type": "stream",
     "text": [
      "1\n",
      "2\n",
      "3\n",
      "4\n",
      "5\n",
      "6\n",
      "7\n",
      "8\n",
      "9\n",
      "10\n"
     ]
    }
   ],
   "source": [
    "#printing from 0 to N\n",
    "\n",
    "for i in range(1,10+1):\n",
    "    print(i)"
   ]
  },
  {
   "cell_type": "code",
   "execution_count": 14,
   "id": "4a81b6a9",
   "metadata": {},
   "outputs": [
    {
     "name": "stdout",
     "output_type": "stream",
     "text": [
      "10\n",
      "9\n",
      "8\n",
      "7\n",
      "6\n",
      "5\n",
      "4\n",
      "3\n",
      "2\n",
      "1\n"
     ]
    }
   ],
   "source": [
    "#printing from N to 1\n",
    "\n",
    "for i in range(10,0,-1):\n",
    "    print(i)"
   ]
  },
  {
   "cell_type": "code",
   "execution_count": 15,
   "id": "8de84c62",
   "metadata": {},
   "outputs": [
    {
     "name": "stdout",
     "output_type": "stream",
     "text": [
      "1\n",
      "3\n",
      "5\n",
      "7\n",
      "9\n",
      "11\n",
      "13\n",
      "15\n",
      "17\n",
      "19\n"
     ]
    }
   ],
   "source": [
    "# printing 1 to 19 iretation = 2\n",
    "for i in range(1,20,2):\n",
    "    print(i)"
   ]
  },
  {
   "cell_type": "markdown",
   "id": "e5fabbe9",
   "metadata": {},
   "source": [
    "### WHILE LOOP"
   ]
  },
  {
   "cell_type": "code",
   "execution_count": 4,
   "id": "08d3aa5e",
   "metadata": {},
   "outputs": [
    {
     "name": "stdout",
     "output_type": "stream",
     "text": [
      "1\n",
      "2\n",
      "3\n",
      "4\n",
      "5\n",
      "6\n",
      "7\n",
      "8\n",
      "9\n",
      "10\n"
     ]
    }
   ],
   "source": [
    "# printing 1 to N\n",
    "num=1\n",
    "\n",
    "while num<=10:\n",
    "    print(num)\n",
    "    num+=1"
   ]
  },
  {
   "cell_type": "code",
   "execution_count": 5,
   "id": "d3525718",
   "metadata": {},
   "outputs": [
    {
     "name": "stdout",
     "output_type": "stream",
     "text": [
      "10\n",
      "9\n",
      "8\n",
      "7\n",
      "6\n",
      "5\n",
      "4\n",
      "3\n",
      "2\n",
      "1\n"
     ]
    }
   ],
   "source": [
    "# printing N to 1\n",
    "\n",
    "num=10\n",
    "\n",
    "while num>=1:\n",
    "    print(num)\n",
    "    num-=1"
   ]
  },
  {
   "cell_type": "markdown",
   "id": "cb8d6e76",
   "metadata": {},
   "source": [
    "### Continue and Break\n"
   ]
  },
  {
   "cell_type": "code",
   "execution_count": 7,
   "id": "195798ea",
   "metadata": {},
   "outputs": [
    {
     "name": "stdout",
     "output_type": "stream",
     "text": [
      "1\n",
      "2\n",
      "3\n",
      "4\n",
      "6\n",
      "7\n",
      "8\n",
      "9\n",
      "11\n",
      "12\n",
      "13\n",
      "14\n",
      "16\n",
      "17\n",
      "18\n",
      "19\n"
     ]
    }
   ],
   "source": [
    "# breaking the current iteration \n",
    "\n",
    "for i in range(1,21):\n",
    "    if i%5 == 0:\n",
    "        continue\n",
    "    print(i)"
   ]
  },
  {
   "cell_type": "code",
   "execution_count": 8,
   "id": "cae76bb5",
   "metadata": {},
   "outputs": [
    {
     "name": "stdout",
     "output_type": "stream",
     "text": [
      "1\n",
      "2\n",
      "3\n",
      "4\n"
     ]
    }
   ],
   "source": [
    "# stoping from specific iretation \n",
    "\n",
    "for i in range(1,21):\n",
    "    if i%5 == 0:\n",
    "        break\n",
    "    print(i)"
   ]
  },
  {
   "cell_type": "code",
   "execution_count": null,
   "id": "de7e8825",
   "metadata": {},
   "outputs": [],
   "source": []
  }
 ],
 "metadata": {
  "kernelspec": {
   "display_name": "Python 3 (ipykernel)",
   "language": "python",
   "name": "python3"
  },
  "language_info": {
   "codemirror_mode": {
    "name": "ipython",
    "version": 3
   },
   "file_extension": ".py",
   "mimetype": "text/x-python",
   "name": "python",
   "nbconvert_exporter": "python",
   "pygments_lexer": "ipython3",
   "version": "3.9.12"
  }
 },
 "nbformat": 4,
 "nbformat_minor": 5
}
