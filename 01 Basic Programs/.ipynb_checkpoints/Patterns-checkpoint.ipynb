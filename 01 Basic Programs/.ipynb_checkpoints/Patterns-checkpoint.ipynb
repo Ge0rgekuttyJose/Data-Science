{
 "cells": [
  {
   "cell_type": "code",
   "execution_count": 6,
   "id": "807cbd95",
   "metadata": {},
   "outputs": [
    {
     "name": "stdout",
     "output_type": "stream",
     "text": [
      "* * * * * * * * * * \n",
      "* * * * * * * * * * \n",
      "* * * * * * * * * * \n",
      "* * * * * * * * * * \n",
      "* * * * * * * * * * \n",
      "* * * * * * * * * * \n",
      "* * * * * * * * * * \n",
      "* * * * * * * * * * \n",
      "* * * * * * * * * * \n",
      "* * * * * * * * * * \n"
     ]
    }
   ],
   "source": [
    "n=10\n",
    "n=10\n",
    "\n",
    "for i in range(0,n):\n",
    "    for j in range(0,n):\n",
    "        print(\"*\" ,end=\" \")\n",
    "    print()"
   ]
  },
  {
   "cell_type": "code",
   "execution_count": 9,
   "id": "42bafb6a",
   "metadata": {},
   "outputs": [
    {
     "name": "stdout",
     "output_type": "stream",
     "text": [
      "\n",
      "* \n",
      "* * \n",
      "* * * \n",
      "* * * * \n",
      "* * * * * \n"
     ]
    }
   ],
   "source": [
    "n=5\n",
    "n=5\n",
    "\n",
    "for i in range(0,n+1):\n",
    "    for j in range(0,i):\n",
    "         print(\"*\" ,end=\" \")\n",
    "    print()\n",
    "        "
   ]
  },
  {
   "cell_type": "code",
   "execution_count": 12,
   "id": "c9720b52",
   "metadata": {},
   "outputs": [
    {
     "name": "stdout",
     "output_type": "stream",
     "text": [
      "\n",
      "1 \n",
      "1 2 \n",
      "1 2 3 \n",
      "1 2 3 4 \n",
      "1 2 3 4 5 \n"
     ]
    }
   ],
   "source": [
    "n=5\n",
    "n=5\n",
    "\n",
    "for i in range(0,n+1):\n",
    "    for j in range(1,i+1):\n",
    "         print(j,end=\" \")\n",
    "    print()\n",
    "        "
   ]
  },
  {
   "cell_type": "code",
   "execution_count": 13,
   "id": "32ba78cb",
   "metadata": {},
   "outputs": [
    {
     "name": "stdout",
     "output_type": "stream",
     "text": [
      "\n",
      "1 \n",
      "2 2 \n",
      "3 3 3 \n",
      "4 4 4 4 \n",
      "5 5 5 5 5 \n"
     ]
    }
   ],
   "source": [
    "n=5\n",
    "n=5\n",
    "\n",
    "for i in range(0,n+1):\n",
    "    for j in range(1,i+1):\n",
    "         print(i,end=\" \")\n",
    "    print()\n",
    "        "
   ]
  },
  {
   "cell_type": "code",
   "execution_count": 19,
   "id": "30a84fc4",
   "metadata": {},
   "outputs": [
    {
     "name": "stdout",
     "output_type": "stream",
     "text": [
      "* * * * * \n",
      "* * * * \n",
      "* * * \n",
      "* * \n",
      "* \n",
      ".......................\n",
      "* * * * * \n",
      "* * * * \n",
      "* * * \n",
      "* * \n",
      "* \n"
     ]
    }
   ],
   "source": [
    "n=5\n",
    "\n",
    "\n",
    "for i in range(1,n+1):\n",
    "    for j in range(0,n-i+1):\n",
    "        print(\"*\",end=\" \")\n",
    "    print()\n",
    "    \n",
    "    \n",
    "#or\n",
    "print(\".......................\")\n",
    "\n",
    "for i in range(1,n+1):\n",
    "    for j in range(n-i,-1,-1):\n",
    "        print(\"*\",end=\" \")\n",
    "    print()\n",
    "\n",
    "        \n",
    "    "
   ]
  },
  {
   "cell_type": "code",
   "execution_count": 25,
   "id": "8f83e0ea",
   "metadata": {},
   "outputs": [
    {
     "name": "stdout",
     "output_type": "stream",
     "text": [
      "1 2 3 4 5 6 7 \n",
      "1 2 3 4 5 6 \n",
      "1 2 3 4 5 \n",
      "1 2 3 4 \n",
      "1 2 3 \n",
      "1 2 \n",
      "1 \n"
     ]
    }
   ],
   "source": [
    "n=7\n",
    "for i in range(1,n+1):\n",
    "    for j in range(0,n-i+1):\n",
    "        print(j+1,end=\" \")\n",
    "    print()\n",
    "    \n",
    "    "
   ]
  },
  {
   "cell_type": "code",
   "execution_count": 46,
   "id": "ffd28171",
   "metadata": {
    "scrolled": true
   },
   "outputs": [
    {
     "name": "stdout",
     "output_type": "stream",
     "text": [
      "    *    \n",
      "   ***   \n",
      "  *****  \n",
      " ******* \n",
      "*********\n",
      ".............................................\n",
      "    *    \n",
      "   ***   \n",
      "  *****  \n",
      " ******* \n",
      "*********\n"
     ]
    }
   ],
   "source": [
    "n=5\n",
    "for i  in range(0,n):\n",
    "    s=chr(32)*(n-i-1)+'*'*(2*i+1)+chr(32)*(n-i-1)\n",
    "    print(s)\n",
    "    \n",
    "#or\n",
    "print(\".............................................\")\n",
    "\n",
    "for i  in range(0,n):\n",
    "    for j in range(0,n-i-1):\n",
    "        print(\" \" ,end=\"\")\n",
    "        \n",
    "    for j in range(0,2*i+1):\n",
    "        print(\"*\" ,end=\"\")\n",
    "        \n",
    "    for j in range(0,n-i-1):\n",
    "        print(\" \" ,end=\"\")\n",
    "    print()\n",
    "        \n",
    "\n",
    "\n"
   ]
  },
  {
   "cell_type": "code",
   "execution_count": 52,
   "id": "2cd1d779",
   "metadata": {},
   "outputs": [
    {
     "name": "stdout",
     "output_type": "stream",
     "text": [
      "*******************\n",
      " ***************** \n",
      "  ***************  \n",
      "   *************   \n",
      "    ***********    \n",
      "     *********     \n",
      "      *******      \n",
      "       *****       \n",
      "        ***        \n",
      "         *         \n",
      ".............................................\n",
      "*******************\n",
      " ***************** \n",
      "  ***************  \n",
      "   *************   \n",
      "    ***********    \n",
      "     *********     \n",
      "      *******      \n",
      "       *****       \n",
      "        ***        \n",
      "         *         \n"
     ]
    }
   ],
   "source": [
    "n=10\n",
    "for i  in range(0,n):\n",
    "    s=chr(32)*(i)+'*'*(n*2-1-(i*2))+chr(32)*(i)\n",
    "    print(s)\n",
    "#or\n",
    "print(\".............................................\")\n",
    "\n",
    "for i  in range(0,n):\n",
    "    for j in range(0,i):\n",
    "        print(\" \" ,end=\"\")\n",
    "        \n",
    "    for j in range(0,n*2-1-(i*2)):\n",
    "        print(\"*\" ,end=\"\")\n",
    "        \n",
    "    for j in range(0,i):\n",
    "        print(\" \" ,end=\"\")\n",
    "    print()\n",
    "        \n",
    "    "
   ]
  },
  {
   "cell_type": "code",
   "execution_count": 53,
   "id": "29aa9d63",
   "metadata": {},
   "outputs": [
    {
     "name": "stdout",
     "output_type": "stream",
     "text": [
      "    *    \n",
      "   ***   \n",
      "  *****  \n",
      " ******* \n",
      "*********\n",
      "*********\n",
      " ******* \n",
      "  *****  \n",
      "   ***   \n",
      "    *    \n"
     ]
    }
   ],
   "source": [
    "n=5\n",
    "for i  in range(0,n):\n",
    "    s=chr(32)*(n-i-1)+'*'*(2*i+1)+chr(32)*(n-i-1)\n",
    "    print(s)\n",
    "for i  in range(0,n):\n",
    "    s=chr(32)*(i)+'*'*(n*2-1-(i*2))+chr(32)*(i)\n",
    "    print(s)\n",
    "    \n",
    "\n",
    "    "
   ]
  },
  {
   "cell_type": "code",
   "execution_count": 59,
   "id": "877ae4c1",
   "metadata": {},
   "outputs": [
    {
     "name": "stdout",
     "output_type": "stream",
     "text": [
      "*\n",
      "**\n",
      "***\n",
      "****\n",
      "*****\n",
      "****\n",
      "***\n",
      "**\n",
      "*\n"
     ]
    }
   ],
   "source": [
    "n = 5\n",
    "for i in range(1, 2*n):\n",
    "    if i > n:\n",
    "        i = 2*n - i\n",
    "    for j in range(1, i + 1):\n",
    "        print(\"*\", end='')\n",
    "    print()\n"
   ]
  },
  {
   "cell_type": "code",
   "execution_count": 61,
   "id": "813f0291",
   "metadata": {},
   "outputs": [
    {
     "name": "stdout",
     "output_type": "stream",
     "text": [
      "\n",
      "0 \n",
      "1 0 \n",
      "0 1 0 \n",
      "1 0 1 0 \n",
      "0 1 0 1 0 \n"
     ]
    }
   ],
   "source": [
    "n=5\n",
    "start=1\n",
    "\n",
    "for i in range(0,n+1):\n",
    "    \n",
    "    if i%2 == 0:\n",
    "        start=1\n",
    "    else:\n",
    "        start=0\n",
    "    \n",
    "    for j in range(0,i):\n",
    "        print(start ,end=\" \")\n",
    "        start=1-start\n",
    "        \n",
    "    print()"
   ]
  },
  {
   "cell_type": "code",
   "execution_count": 25,
   "id": "49fddf37",
   "metadata": {},
   "outputs": [
    {
     "name": "stdout",
     "output_type": "stream",
     "text": [
      "1      1\n",
      "12    21\n",
      "123  321\n",
      "12344321\n"
     ]
    }
   ],
   "source": [
    "n=5\n",
    "\n",
    "for i in range(1,n):\n",
    "    \n",
    "    for j in range(1,i+1):\n",
    "        print(j,end='')\n",
    "    \n",
    "    \n",
    "    for j in range(1,(n*2)-(i*2)-1):\n",
    "        \n",
    "        print(' ',end='')\n",
    "    \n",
    "        \n",
    "        \n",
    "    for j in range(i,0,-1):\n",
    "        print(j,end='')\n",
    "    print()\n",
    "    \n",
    "    \n",
    "print(\".................................................................\")"
   ]
  },
  {
   "cell_type": "code",
   "execution_count": 30,
   "id": "2247d0d6",
   "metadata": {},
   "outputs": [
    {
     "name": "stdout",
     "output_type": "stream",
     "text": [
      "\n",
      "1 \n",
      "2 3 \n",
      "4 5 6 \n",
      "7 8 9 10 \n",
      "11 12 13 14 15 \n"
     ]
    }
   ],
   "source": [
    "n=5\n",
    "c=1\n",
    "for i in range(0,n+1):\n",
    "    for j in range(1,i+1):\n",
    "         print(c,end=\" \")\n",
    "         c=c+1\n",
    "    print()"
   ]
  },
  {
   "cell_type": "code",
   "execution_count": 37,
   "id": "f98785cc",
   "metadata": {},
   "outputs": [
    {
     "name": "stdout",
     "output_type": "stream",
     "text": [
      "\n",
      "A \n",
      "A B \n",
      "A B C \n",
      "A B C D \n",
      "A B C D E \n",
      "A B C D E F \n",
      "A B C D E F G \n",
      "A B C D E F G H \n",
      "A B C D E F G H I \n",
      "A B C D E F G H I J \n"
     ]
    }
   ],
   "source": [
    "n=10\n",
    "c=1\n",
    "for i in range(0,n+1):\n",
    "    for j in range(1,i+1):\n",
    "         n=64+j\n",
    "         print(chr(n),end=\" \")\n",
    "    print()"
   ]
  },
  {
   "cell_type": "code",
   "execution_count": 45,
   "id": "7736f475",
   "metadata": {},
   "outputs": [
    {
     "name": "stdout",
     "output_type": "stream",
     "text": [
      "ABCDE\n",
      "ABCD\n",
      "ABC\n",
      "AB\n",
      "A\n"
     ]
    }
   ],
   "source": [
    "n=5\n",
    "for i in range(0,n):\n",
    "    for j in range(0,n-i):\n",
    "        print(chr(65+j) , end='')\n",
    "    print()"
   ]
  },
  {
   "cell_type": "code",
   "execution_count": 46,
   "id": "039c07fd",
   "metadata": {},
   "outputs": [
    {
     "name": "stdout",
     "output_type": "stream",
     "text": [
      "\n",
      "A \n",
      "B B \n",
      "C C C \n",
      "D D D D \n",
      "E E E E E \n",
      "F F F F F F \n",
      "G G G G G G G \n",
      "H H H H H H H H \n",
      "I I I I I I I I I \n",
      "J J J J J J J J J J \n"
     ]
    }
   ],
   "source": [
    "n=10\n",
    "c=1\n",
    "for i in range(0,n+1):\n",
    "    for j in range(1,i+1):\n",
    "         n=64+i\n",
    "         print(chr(n),end=\" \")\n",
    "    print()"
   ]
  },
  {
   "cell_type": "code",
   "execution_count": 69,
   "id": "8375a36f",
   "metadata": {},
   "outputs": [
    {
     "name": "stdout",
     "output_type": "stream",
     "text": [
      "     A     \n",
      "    ABA    \n",
      "   ABCBA   \n",
      "  ABCDCBA  \n",
      " ABCDEDCBA \n",
      "ABCDEFEDCBA\n"
     ]
    }
   ],
   "source": [
    "n=6\n",
    "\n",
    "for i  in range(0,n):\n",
    "    c=64\n",
    "    \n",
    "    for j in range(0,n-i-1):\n",
    "        print(\" \" ,end=\"\")\n",
    "        \n",
    "    for j in range(0,2*i+1):\n",
    "        co=2*i+1\n",
    "        \n",
    "        \n",
    "        \n",
    "        \n",
    "        if j<int(co/2)+1:\n",
    "            c=c+1\n",
    "            print(chr(c) ,end=\"\")\n",
    "            \n",
    "        else:\n",
    "            c=c-1\n",
    "            print(chr(c) ,end=\"\")\n",
    "            \n",
    "    \n",
    "    \n",
    "    for j in range(0,n-i-1):\n",
    "        print(\" \" ,end=\"\")\n",
    "    print()\n",
    "        "
   ]
  },
  {
   "cell_type": "code",
   "execution_count": 80,
   "id": "10c64330",
   "metadata": {},
   "outputs": [
    {
     "name": "stdout",
     "output_type": "stream",
     "text": [
      "\n",
      "E \n",
      "D E \n",
      "C D E \n",
      "B C D E \n",
      "A B C D E \n"
     ]
    }
   ],
   "source": [
    "n=5\n",
    "e=69\n",
    "for i in range(0,n+1):\n",
    "    for j in range(0,i):\n",
    "        print(chr(e-i+j+1),end=\" \")\n",
    "    print()"
   ]
  },
  {
   "cell_type": "code",
   "execution_count": 90,
   "id": "8491e309",
   "metadata": {},
   "outputs": [
    {
     "name": "stdout",
     "output_type": "stream",
     "text": [
      "**********\n",
      "****  ****\n",
      "***    ***\n",
      "**      **\n",
      "*        *\n",
      "*        *\n",
      "**      **\n",
      "***    ***\n",
      "****  ****\n",
      "**********\n"
     ]
    }
   ],
   "source": [
    "n=5\n",
    "c=n*2\n",
    "for i in range(1,n+1):\n",
    "    for j in range(0,n-i+1):\n",
    "        print('*' ,end='')\n",
    "        \n",
    "    for j in range(0,(i-1)*2):\n",
    "        print(' ' ,end='')    \n",
    "    \n",
    "        \n",
    "    for j in range(0,n-i+1):\n",
    "        print('*' ,end='')\n",
    "    print()\n",
    "    \n",
    "for i in range(1,n+1):\n",
    "    for j in range(1,i+1):\n",
    "        print('*' ,end='')\n",
    "        \n",
    "    for j in range(0,(2*n)-i*2):\n",
    "        print(' ' ,end='')    \n",
    "    \n",
    "        \n",
    "    for j in range(1,i+1):\n",
    "        print('*' ,end='')\n",
    "    print()\n",
    "        \n",
    "    "
   ]
  },
  {
   "cell_type": "code",
   "execution_count": null,
   "id": "301d8de5",
   "metadata": {},
   "outputs": [],
   "source": [
    ")"
   ]
  },
  {
   "cell_type": "code",
   "execution_count": 117,
   "id": "f0b5464c",
   "metadata": {},
   "outputs": [
    {
     "name": "stdout",
     "output_type": "stream",
     "text": [
      "*        *\n",
      "**      **\n",
      "***    ***\n",
      "****  ****\n",
      "**********\n",
      "****  ****\n",
      "***    ***\n",
      "**      **\n",
      "*        *\n"
     ]
    }
   ],
   "source": [
    "n=10\n",
    "s=n\n",
    "\n",
    "for i in range(1,n):\n",
    "    if i<=int(n/2):\n",
    "        s=s-2\n",
    "        print('*'*i,end='')\n",
    "        print(' '*s,end='')\n",
    "        print('*'*i,end='')\n",
    "        \n",
    "    else:\n",
    "        i=n-i\n",
    "        s=s+2\n",
    "        print('*'*i,end='')\n",
    "        print(' '*s,end='')\n",
    "        print('*'*i,end='')\n",
    "    print()\n",
    "        \n",
    "\n",
    "        "
   ]
  },
  {
   "cell_type": "code",
   "execution_count": 134,
   "id": "e2345653",
   "metadata": {},
   "outputs": [
    {
     "name": "stdout",
     "output_type": "stream",
     "text": [
      "* * * * \n",
      "*     * \n",
      "*     * \n",
      "* * * * \n"
     ]
    }
   ],
   "source": [
    "n=4\n",
    "\n",
    "for i in range(0,n):\n",
    "    for j in range(0,n):\n",
    "        if j==0 or j==n-1 or i==0 or i==n-1:\n",
    "            print(\"*\",end=' ')\n",
    "        else:\n",
    "            print(' ',end=' ')\n",
    "    print()"
   ]
  },
  {
   "cell_type": "code",
   "execution_count": 139,
   "id": "2a6f21d2",
   "metadata": {},
   "outputs": [
    {
     "name": "stdout",
     "output_type": "stream",
     "text": [
      "0 0 0 0 0 0 0 \n",
      "0 1 1 1 1 1 0 \n",
      "0 1 2 2 2 1 0 \n",
      "0 1 2 3 2 1 0 \n",
      "0 1 2 2 2 1 0 \n",
      "0 1 1 1 1 1 0 \n",
      "0 0 0 0 0 0 0 \n"
     ]
    }
   ],
   "source": [
    "n=4\n",
    "\n",
    "\n",
    "for i in range(0,2*n-1):\n",
    "    for j in range(0,2*n-1):\n",
    "        top=i\n",
    "        left=j\n",
    "        right=(2*n-2)-j\n",
    "        down=(2*n-2)-i\n",
    "        \n",
    "        r=min(min(top,down),min(left,right))\n",
    "        print(r,end=' ')\n",
    "    print()"
   ]
  },
  {
   "cell_type": "code",
   "execution_count": 45,
   "id": "9d5d0d42",
   "metadata": {},
   "outputs": [
    {
     "name": "stdout",
     "output_type": "stream",
     "text": [
      "*\n",
      "  *\n",
      "    *\n",
      "  *\n",
      "*\n",
      "  *\n",
      "    *\n",
      "  *\n",
      "*\n",
      "  *\n",
      "    *\n",
      "  *\n",
      "*\n",
      "  *\n",
      "    *\n",
      "  *\n",
      "*\n",
      "  *\n",
      "    *\n",
      "  *\n"
     ]
    }
   ],
   "source": [
    "n=20\n",
    "p = [0,1,2,1]\n",
    "\n",
    "for i in range(0,n):\n",
    "    j=p[i%4]\n",
    "    for j in range(0,j):\n",
    "        print(' ',end=' ')\n",
    "    print('*')"
   ]
  }
 ],
 "metadata": {
  "kernelspec": {
   "display_name": "Python 3 (ipykernel)",
   "language": "python",
   "name": "python3"
  },
  "language_info": {
   "codemirror_mode": {
    "name": "ipython",
    "version": 3
   },
   "file_extension": ".py",
   "mimetype": "text/x-python",
   "name": "python",
   "nbconvert_exporter": "python",
   "pygments_lexer": "ipython3",
   "version": "3.9.12"
  }
 },
 "nbformat": 4,
 "nbformat_minor": 5
}
