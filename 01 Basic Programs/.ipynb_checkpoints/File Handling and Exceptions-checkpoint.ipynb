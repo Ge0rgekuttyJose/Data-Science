{
 "cells": [
  {
   "cell_type": "markdown",
   "id": "120303d3",
   "metadata": {},
   "source": [
    "### Exception Handling \n"
   ]
  },
  {
   "cell_type": "code",
   "execution_count": 4,
   "id": "60cad1d9",
   "metadata": {},
   "outputs": [
    {
     "name": "stdout",
     "output_type": "stream",
     "text": [
      "Enter num1 10\n",
      "Enter num2 0\n",
      "10.0\n"
     ]
    }
   ],
   "source": [
    "num1=int(input(\"Enter num1 \"))\n",
    "num2=int(input(\"Enter num2 \"))\n",
    "\n",
    "\n",
    "\n",
    "try:\n",
    "    result = num1/num2\n",
    "    print(result)\n",
    "    \n",
    "except:\n",
    "    num2=1\n",
    "    result=num1/num2\n",
    "    print(result)"
   ]
  },
  {
   "cell_type": "code",
   "execution_count": 5,
   "id": "5f56c1aa",
   "metadata": {},
   "outputs": [
    {
     "name": "stdout",
     "output_type": "stream",
     "text": [
      "Enter num1 10\n",
      "Enter num2 50\n",
      "0.2\n",
      "No Error\n"
     ]
    }
   ],
   "source": [
    "num1=int(input(\"Enter num1 \"))\n",
    "num2=int(input(\"Enter num2 \"))\n",
    "\n",
    "\n",
    "\n",
    "try:\n",
    "    result = num1/num2\n",
    "    print(result)\n",
    "    \n",
    "except:\n",
    "    num2=1\n",
    "    result=num1/num2\n",
    "    print(result)\n",
    "    \n",
    "else:\n",
    "    print(\"No Error\")"
   ]
  },
  {
   "cell_type": "code",
   "execution_count": 6,
   "id": "7198272b",
   "metadata": {},
   "outputs": [
    {
     "name": "stdout",
     "output_type": "stream",
     "text": [
      "Enter num1 10\n",
      "Enter num2 20\n",
      "0.5\n",
      "No Error\n",
      "Always Executed\n"
     ]
    }
   ],
   "source": [
    "num1=int(input(\"Enter num1 \"))\n",
    "num2=int(input(\"Enter num2 \"))\n",
    "\n",
    "\n",
    "\n",
    "try:\n",
    "    result = num1/num2\n",
    "    print(result)\n",
    "    \n",
    "except:\n",
    "    num2=1\n",
    "    result=num1/num2\n",
    "    print(result)\n",
    "    \n",
    "else:\n",
    "    print(\"No Error\")\n",
    "    \n",
    "finally:\n",
    "    print(\"Always Executed\")"
   ]
  },
  {
   "cell_type": "code",
   "execution_count": 7,
   "id": "1696a821",
   "metadata": {},
   "outputs": [
    {
     "name": "stdout",
     "output_type": "stream",
     "text": [
      "Index error as been found\n"
     ]
    }
   ],
   "source": [
    "a=[1,2,3,4,5,6]\n",
    "\n",
    "\n",
    "try:\n",
    "    print(a[9])\n",
    "except ZeroDivisionError:\n",
    "    print(\"Zero division Error\")\n",
    "except IndexError:\n",
    "    print(\"Index error as been found\")\n",
    "    "
   ]
  },
  {
   "cell_type": "code",
   "execution_count": 8,
   "id": "254e92b4",
   "metadata": {},
   "outputs": [
    {
     "ename": "Exception",
     "evalue": "Received a negative value.",
     "output_type": "error",
     "traceback": [
      "\u001b[1;31m---------------------------------------------------------------------------\u001b[0m",
      "\u001b[1;31mException\u001b[0m                                 Traceback (most recent call last)",
      "Input \u001b[1;32mIn [8]\u001b[0m, in \u001b[0;36m<cell line: 3>\u001b[1;34m()\u001b[0m\n\u001b[0;32m      1\u001b[0m x\u001b[38;5;241m=\u001b[39m\u001b[38;5;241m-\u001b[39m\u001b[38;5;241m9\u001b[39m\n\u001b[0;32m      3\u001b[0m \u001b[38;5;28;01mif\u001b[39;00m x\u001b[38;5;241m<\u001b[39m\u001b[38;5;241m0\u001b[39m:\n\u001b[1;32m----> 4\u001b[0m     \u001b[38;5;28;01mraise\u001b[39;00m \u001b[38;5;167;01mException\u001b[39;00m(\u001b[38;5;124m\"\u001b[39m\u001b[38;5;124mReceived a negative value.\u001b[39m\u001b[38;5;124m\"\u001b[39m)\n",
      "\u001b[1;31mException\u001b[0m: Received a negative value."
     ]
    }
   ],
   "source": [
    "x=-9\n",
    "\n",
    "if x<0:\n",
    "    raise Exception(\"Received a negative value.\")"
   ]
  },
  {
   "cell_type": "markdown",
   "id": "20387179",
   "metadata": {},
   "source": [
    "### File Handling"
   ]
  },
  {
   "cell_type": "markdown",
   "id": "41bcee28",
   "metadata": {},
   "source": [
    "### Reading a file"
   ]
  },
  {
   "cell_type": "code",
   "execution_count": 27,
   "id": "fa2f8ae8",
   "metadata": {},
   "outputs": [
    {
     "name": "stdout",
     "output_type": "stream",
     "text": [
      "I am a B tech graduated Student\n",
      "I am working in Github\n",
      "I am into Data Science\n",
      "\n"
     ]
    }
   ],
   "source": [
    "file1=open('demo.txt','r')\n",
    "print(file1.read())\n",
    "file1.close()"
   ]
  },
  {
   "cell_type": "markdown",
   "id": "a6c7d52d",
   "metadata": {},
   "source": [
    "### Appending contents into the file"
   ]
  },
  {
   "cell_type": "code",
   "execution_count": 35,
   "id": "0ef3029f",
   "metadata": {},
   "outputs": [
    {
     "name": "stdout",
     "output_type": "stream",
     "text": [
      "33\n"
     ]
    }
   ],
   "source": [
    "file2=open('demo.txt','a')\n",
    "print(file2.write(\"I want a job as soon as possible \"))\n",
    "file2.close()"
   ]
  },
  {
   "cell_type": "markdown",
   "id": "76adb73b",
   "metadata": {},
   "source": [
    "### Reading a file"
   ]
  },
  {
   "cell_type": "code",
   "execution_count": 29,
   "id": "15f2fe61",
   "metadata": {},
   "outputs": [
    {
     "name": "stdout",
     "output_type": "stream",
     "text": [
      "I am a B tech graduated Student\n",
      "I am working in Github\n",
      "I am into Data Science\n",
      "I want a job as soon as possible \n"
     ]
    }
   ],
   "source": [
    "file1=open('demo.txt','r')\n",
    "print(file1.read())\n",
    "file1.close()"
   ]
  },
  {
   "cell_type": "markdown",
   "id": "e73fb031",
   "metadata": {},
   "source": [
    "### Writing into a file by Deleting Previous Content"
   ]
  },
  {
   "cell_type": "code",
   "execution_count": 38,
   "id": "42a5a934",
   "metadata": {},
   "outputs": [
    {
     "name": "stdout",
     "output_type": "stream",
     "text": [
      "11\n"
     ]
    }
   ],
   "source": [
    "file1=open('demo.txt','w')\n",
    "print(file1.write(\"I am Batman\"))\n",
    "file1.close()\n",
    "\n"
   ]
  },
  {
   "cell_type": "code",
   "execution_count": 39,
   "id": "5579c87c",
   "metadata": {},
   "outputs": [
    {
     "name": "stdout",
     "output_type": "stream",
     "text": [
      "I am Batman\n"
     ]
    }
   ],
   "source": [
    "file1=open('demo.txt','r')\n",
    "print(file1.read())\n",
    "file1.close()"
   ]
  },
  {
   "cell_type": "markdown",
   "id": "289ef798",
   "metadata": {},
   "source": [
    "### Creating a non existing File"
   ]
  },
  {
   "cell_type": "code",
   "execution_count": 40,
   "id": "42c0cd66",
   "metadata": {},
   "outputs": [
    {
     "name": "stdout",
     "output_type": "stream",
     "text": [
      "17\n"
     ]
    }
   ],
   "source": [
    "file1=open('demo1.txt','w')\n",
    "print(file1.write(\"DEMO 1 Is Created\"))\n",
    "file1.close()\n",
    "\n"
   ]
  },
  {
   "cell_type": "markdown",
   "id": "15fe9cb7",
   "metadata": {},
   "source": [
    "### Creating a File"
   ]
  },
  {
   "cell_type": "code",
   "execution_count": 13,
   "id": "30feebe5",
   "metadata": {},
   "outputs": [],
   "source": [
    "file4=open('demo4.txt','x')"
   ]
  },
  {
   "cell_type": "markdown",
   "id": "0890205b",
   "metadata": {},
   "source": [
    "### Deletion of File"
   ]
  },
  {
   "cell_type": "code",
   "execution_count": 19,
   "id": "07380f21",
   "metadata": {},
   "outputs": [],
   "source": [
    "import os\n",
    "\n",
    "os.remove('demo4.txt')"
   ]
  },
  {
   "cell_type": "code",
   "execution_count": null,
   "id": "88d0f35b",
   "metadata": {},
   "outputs": [],
   "source": []
  }
 ],
 "metadata": {
  "kernelspec": {
   "display_name": "Python 3 (ipykernel)",
   "language": "python",
   "name": "python3"
  },
  "language_info": {
   "codemirror_mode": {
    "name": "ipython",
    "version": 3
   },
   "file_extension": ".py",
   "mimetype": "text/x-python",
   "name": "python",
   "nbconvert_exporter": "python",
   "pygments_lexer": "ipython3",
   "version": "3.9.12"
  }
 },
 "nbformat": 4,
 "nbformat_minor": 5
}
