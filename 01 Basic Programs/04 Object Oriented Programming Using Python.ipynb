{
 "cells": [
  {
   "cell_type": "markdown",
   "id": "24e0e3c6",
   "metadata": {},
   "source": [
    "### Object Oriented Programming "
   ]
  },
  {
   "cell_type": "markdown",
   "id": "dd2bef8d",
   "metadata": {},
   "source": [
    "Object-Oriented Programming (OOP) is a programming paradigm centered around objects rather than functions or logic.\n",
    "\n",
    "Class: A blueprint for creating objects. It defines the attributes (data) and methods (behavior) that the objects created from the class can have.\n",
    "\n",
    "Object: An instance of a class. It represents a specific item with the attributes and methods defined in the class."
   ]
  },
  {
   "cell_type": "code",
   "execution_count": 21,
   "id": "13756bb3",
   "metadata": {},
   "outputs": [],
   "source": [
    "# Creating a empty class\n",
    "\n",
    "class Animals:\n",
    "    pass"
   ]
  },
  {
   "cell_type": "code",
   "execution_count": 22,
   "id": "150c9d31",
   "metadata": {
    "scrolled": true
   },
   "outputs": [
    {
     "name": "stdout",
     "output_type": "stream",
     "text": [
      "Species : mammal\n",
      "My name is Rodger\n",
      "Species : mammal\n",
      "My name is Tommy\n"
     ]
    }
   ],
   "source": [
    "class Dog:\n",
    "    \n",
    "    species='mammal'  # class attribute\n",
    "    def __init__(self,name):\n",
    "        self.my_name=name    # instance of class\n",
    "    def speak(self):\n",
    "        print(f\"My name is {self.my_name}\")\n",
    "    \n",
    "        \n",
    "        \n",
    "rodger=Dog(\"Rodger\")\n",
    "\n",
    "print(\"Species :\",rodger.species)\n",
    "rodger.speak()\n",
    "\n",
    "tommy=Dog(\"Tommy\")\n",
    "print(\"Species :\",tommy.species)\n",
    "tommy.speak()"
   ]
  },
  {
   "cell_type": "code",
   "execution_count": 23,
   "id": "cef310d8",
   "metadata": {},
   "outputs": [
    {
     "name": "stdout",
     "output_type": "stream",
     "text": [
      "Parent\n",
      "Brown\n",
      "f1 from parent\n",
      "f2 from child\n",
      "f3 from child\n"
     ]
    }
   ],
   "source": [
    "class Parent:\n",
    "    \n",
    "    parent_name=\"Parent\"\n",
    "    def f1(self):\n",
    "        print(\"f1 from parent\")\n",
    "    def f2(self):\n",
    "        print(\"f2 from parent\")\n",
    "        \n",
    "class Child(Parent):\n",
    "    hair_color = 'Brown'\n",
    "    def f2(self):\n",
    "        print(\"f2 from child\")\n",
    "    def f3(self):\n",
    "        print(\"f3 from child\")\n",
    "        \n",
    "obj=Child()\n",
    "\n",
    "print(obj.parent_name)\n",
    "\n",
    "print(obj.hair_color)\n",
    "\n",
    "\n",
    "obj.f1()\n",
    "obj.f2()\n",
    "obj.f3()"
   ]
  },
  {
   "cell_type": "code",
   "execution_count": 24,
   "id": "6a7623be",
   "metadata": {},
   "outputs": [
    {
     "name": "stdout",
     "output_type": "stream",
     "text": [
      "f1 from parent\n",
      "f2 from parent\n",
      "f2 from child\n",
      "f3 from child\n"
     ]
    }
   ],
   "source": [
    "class Parent:\n",
    "    parent_name=\"Parent\"\n",
    "    def f1(self):\n",
    "        print(\"f1 from parent\")\n",
    "    def f2(self):\n",
    "        print(\"f2 from parent\")\n",
    "        \n",
    "class Child(Parent):\n",
    "    hair_color = 'Brown'\n",
    "    def f2(self):\n",
    "        super().f2()     #overriding\n",
    "        print(\"f2 from child\")\n",
    "    def f3(self):\n",
    "        print(\"f3 from child\")\n",
    "        \n",
    "obj=Child()\n",
    "obj.f1()\n",
    "obj.f2()\n",
    "obj.f3()"
   ]
  },
  {
   "cell_type": "markdown",
   "id": "1fa31399",
   "metadata": {},
   "source": [
    "### Polymorphism \n",
    "Polymorphism in Python allows methods in different classes to have the same name but behave differently based on the object that calls them."
   ]
  },
  {
   "cell_type": "code",
   "execution_count": 25,
   "id": "179c22d5",
   "metadata": {},
   "outputs": [
    {
     "name": "stdout",
     "output_type": "stream",
     "text": [
      "Penguin can't fly\n",
      "Penguin can swin\n",
      "Parrot can fly\n",
      "Parrat can't swin\n"
     ]
    }
   ],
   "source": [
    "class Penguin:\n",
    "    def fly(self):\n",
    "        print(\"Penguin can't fly\")\n",
    "    def swin(self):\n",
    "        print(\"Penguin can swin\")\n",
    "        \n",
    "class Parrot:\n",
    "    def fly(self):\n",
    "        print(\"Parrot can fly\")\n",
    "    def swin(self):\n",
    "        print(\"Parrat can't swin\")\n",
    "    \n",
    "    \n",
    "b1=Penguin()\n",
    "b2=Parrot()\n",
    "\n",
    "\n",
    "for obj in (b1,b2):\n",
    "    obj.fly() #Method Overloading\n",
    "    obj.swin()     "
   ]
  },
  {
   "cell_type": "code",
   "execution_count": 26,
   "id": "52876db7",
   "metadata": {},
   "outputs": [
    {
     "data": {
      "text/plain": [
       "7"
      ]
     },
     "execution_count": 26,
     "metadata": {},
     "output_type": "execute_result"
    }
   ],
   "source": [
    "class op_overload:\n",
    "    \n",
    "    def __init__(self,value):\n",
    "        self.a=value\n",
    "    def __add__(self,other):\n",
    "        return self.a + other.a\n",
    "    \n",
    "ob1=op_overload(4)\n",
    "ob2=op_overload(3)\n",
    "\n",
    "ob1 + ob2"
   ]
  },
  {
   "cell_type": "markdown",
   "id": "e08312c5",
   "metadata": {},
   "source": [
    "### Encapsulation\n",
    "It involves bundling data (attributes) and methods (functions) that operate on the data within a single unit, known as a class, and restricting access to some of the object's components.\n",
    "\n",
    "Public: Attributes and methods that are accessible from outside the class. By default, all members are public in Python.\n",
    "\n",
    "Protected: Attributes and methods that are intended for use within the class and its subclasses. These are prefixed with a single underscore (_attribute).\n",
    "\n",
    "Private: Attributes and methods that are restricted to the class itself. They are prefixed with double underscores (__attribute), and Python name mangles these to prevent access from outside the class."
   ]
  },
  {
   "cell_type": "code",
   "execution_count": 27,
   "id": "cd0b74e7",
   "metadata": {},
   "outputs": [
    {
     "name": "stdout",
     "output_type": "stream",
     "text": [
      "10\n",
      "11\n",
      "12\n",
      "20\n"
     ]
    }
   ],
   "source": [
    "class Trial:\n",
    "    x=10 #public\n",
    "    _x=11 #protected\n",
    "    __x=12 # private\n",
    "    \n",
    "    def getx(self):\n",
    "        print(self.__x)\n",
    "    def setx(self,value):\n",
    "        self.__x=value\n",
    "        \n",
    "        \n",
    "        \n",
    "ob=Trial()\n",
    "\n",
    "print(ob.x)\n",
    "print(ob._x)\n",
    "#print(ob.__x)  Error\n",
    "\n",
    "\n",
    "ob.getx()\n",
    "\n",
    "\n",
    "ob.setx(20)\n",
    "\n",
    "ob.getx()\n"
   ]
  },
  {
   "cell_type": "code",
   "execution_count": null,
   "id": "ee409045",
   "metadata": {},
   "outputs": [],
   "source": []
  }
 ],
 "metadata": {
  "kernelspec": {
   "display_name": "Python 3 (ipykernel)",
   "language": "python",
   "name": "python3"
  },
  "language_info": {
   "codemirror_mode": {
    "name": "ipython",
    "version": 3
   },
   "file_extension": ".py",
   "mimetype": "text/x-python",
   "name": "python",
   "nbconvert_exporter": "python",
   "pygments_lexer": "ipython3",
   "version": "3.9.12"
  }
 },
 "nbformat": 4,
 "nbformat_minor": 5
}
