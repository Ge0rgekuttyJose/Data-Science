{
 "cells": [
  {
   "cell_type": "markdown",
   "id": "f0ab8cb7",
   "metadata": {},
   "source": [
    "### Importing the library "
   ]
  },
  {
   "cell_type": "code",
   "execution_count": 1,
   "id": "417c02e8",
   "metadata": {},
   "outputs": [],
   "source": [
    "import matplotlib.pyplot as plt\n",
    "from sklearn.model_selection import train_test_split, cross_val_score\n",
    "from sklearn.datasets import load_digits\n",
    "from sklearn.ensemble import RandomForestClassifier\n",
    "from sklearn.tree import DecisionTreeClassifier\n",
    "from sklearn.neighbors import KNeighborsClassifier\n",
    "import pandas as pd"
   ]
  },
  {
   "cell_type": "markdown",
   "id": "6b322ae5",
   "metadata": {},
   "source": [
    "### Reading the Datasets"
   ]
  },
  {
   "cell_type": "code",
   "execution_count": 2,
   "id": "b81b889f",
   "metadata": {},
   "outputs": [],
   "source": [
    "digits = load_digits()"
   ]
  },
  {
   "cell_type": "code",
   "execution_count": 3,
   "id": "35e8fbb7",
   "metadata": {},
   "outputs": [
    {
     "data": {
      "text/plain": [
       "1797"
      ]
     },
     "execution_count": 3,
     "metadata": {},
     "output_type": "execute_result"
    }
   ],
   "source": [
    "len(digits.data)"
   ]
  },
  {
   "cell_type": "code",
   "execution_count": 4,
   "id": "88e5b6d4",
   "metadata": {},
   "outputs": [
    {
     "data": {
      "text/plain": [
       "array([[ 0.,  0.,  5., ...,  0.,  0.,  0.],\n",
       "       [ 0.,  0.,  0., ..., 10.,  0.,  0.],\n",
       "       [ 0.,  0.,  0., ..., 16.,  9.,  0.],\n",
       "       ...,\n",
       "       [ 0.,  0.,  1., ...,  6.,  0.,  0.],\n",
       "       [ 0.,  0.,  2., ..., 12.,  0.,  0.],\n",
       "       [ 0.,  0., 10., ..., 12.,  1.,  0.]])"
      ]
     },
     "execution_count": 4,
     "metadata": {},
     "output_type": "execute_result"
    }
   ],
   "source": [
    "digits.data"
   ]
  },
  {
   "cell_type": "code",
   "execution_count": 5,
   "id": "52d0ec7b",
   "metadata": {},
   "outputs": [
    {
     "data": {
      "text/plain": [
       "array([0, 1, 2, ..., 8, 9, 8])"
      ]
     },
     "execution_count": 5,
     "metadata": {},
     "output_type": "execute_result"
    }
   ],
   "source": [
    "digits.target"
   ]
  },
  {
   "cell_type": "code",
   "execution_count": 6,
   "id": "9bf43ace",
   "metadata": {},
   "outputs": [
    {
     "data": {
      "text/plain": [
       "array([ 0.,  0.,  9., 15., 14.,  2.,  0.,  0.,  0.,  0.,  9.,  3.,  9.,\n",
       "        8.,  0.,  0.,  0.,  0.,  0.,  0.,  6., 10.,  0.,  0.,  0.,  0.,\n",
       "        0., 10., 15.,  2.,  0.,  0.,  0.,  0.,  2., 10., 11., 15.,  2.,\n",
       "        0.,  0.,  3.,  1.,  0.,  0., 14.,  4.,  0.,  0., 10., 13.,  7.,\n",
       "        2., 12.,  4.,  0.,  0.,  0.,  7., 14., 16., 10.,  0.,  0.])"
      ]
     },
     "execution_count": 6,
     "metadata": {},
     "output_type": "execute_result"
    }
   ],
   "source": [
    "digits.data[999]"
   ]
  },
  {
   "cell_type": "code",
   "execution_count": 7,
   "id": "00d7c035",
   "metadata": {},
   "outputs": [
    {
     "data": {
      "text/plain": [
       "3"
      ]
     },
     "execution_count": 7,
     "metadata": {},
     "output_type": "execute_result"
    }
   ],
   "source": [
    "digits.target[999]"
   ]
  },
  {
   "cell_type": "code",
   "execution_count": 8,
   "id": "b1440540",
   "metadata": {},
   "outputs": [
    {
     "data": {
      "text/plain": [
       "<matplotlib.image.AxesImage at 0x1e3bd453490>"
      ]
     },
     "execution_count": 8,
     "metadata": {},
     "output_type": "execute_result"
    },
    {
     "data": {
      "image/png": "[encoded data removed]",
      "text/plain": [
       "<Figure size 432x288 with 1 Axes>"
      ]
     },
     "metadata": {
      "needs_background": "light"
     },
     "output_type": "display_data"
    }
   ],
   "source": [
    "plt.imshow(digits.images[999])"
   ]
  },
  {
   "cell_type": "markdown",
   "id": "a9888b19",
   "metadata": {},
   "source": [
    "### Spliting the Dataset into X and Y"
   ]
  },
  {
   "cell_type": "code",
   "execution_count": 9,
   "id": "c19c96b9",
   "metadata": {},
   "outputs": [],
   "source": [
    "x=digits.data\n",
    "y=digits.target"
   ]
  },
  {
   "cell_type": "code",
   "execution_count": 10,
   "id": "85c4d284",
   "metadata": {},
   "outputs": [],
   "source": [
    "x_train,x_test,y_train,y_test=train_test_split(x,y,test_size=0.2,random_state=123)"
   ]
  },
  {
   "cell_type": "markdown",
   "id": "0fcf6eac",
   "metadata": {},
   "source": [
    "### Creating different model"
   ]
  },
  {
   "cell_type": "code",
   "execution_count": 11,
   "id": "57e2674b",
   "metadata": {},
   "outputs": [],
   "source": [
    "rf = RandomForestClassifier(random_state=12)\n",
    "rf.fit(x_train,y_train)\n",
    "rf_score = rf.score(x_test,y_test)\n",
    "\n",
    "dt = DecisionTreeClassifier()\n",
    "dt.fit(x_train,y_train)\n",
    "dt_score = dt.score(x_test,y_test)\n",
    "\n",
    "knn = KNeighborsClassifier(n_neighbors = 10)\n",
    "knn.fit(x_train,y_train)\n",
    "knn_score = knn.score(x_test,y_test)\n"
   ]
  },
  {
   "cell_type": "markdown",
   "id": "b0b196e4",
   "metadata": {},
   "source": [
    "### Creating different model with K-vold"
   ]
  },
  {
   "cell_type": "code",
   "execution_count": 12,
   "id": "73a0088f",
   "metadata": {},
   "outputs": [],
   "source": [
    "kfold_rf_score = cross_val_score(RandomForestClassifier(random_state=12),X=digits.data,y=digits.target,cv=3)\n",
    "kfold_dt_score = cross_val_score(DecisionTreeClassifier(),X=digits.data,y=digits.target,cv=3)\n",
    "kfold_knn_score = cross_val_score(KNeighborsClassifier(n_neighbors=10),X=digits.data,y=digits.target,cv=3)"
   ]
  },
  {
   "cell_type": "code",
   "execution_count": 13,
   "id": "da4bb8df",
   "metadata": {},
   "outputs": [],
   "source": [
    "kfold_rf_score = kfold_rf_score.mean()\n",
    "kfold_dt_score = kfold_dt_score.mean()\n",
    "kfold_knn_score = kfold_knn_score.mean()"
   ]
  },
  {
   "cell_type": "markdown",
   "id": "9748d3ae",
   "metadata": {},
   "source": [
    "### Creating a Dataframe for Comparsion"
   ]
  },
  {
   "cell_type": "code",
   "execution_count": 14,
   "id": "abed6425",
   "metadata": {},
   "outputs": [
    {
     "data": {
      "text/html": [
       "<div>\n",
       "<style scoped>\n",
       "    .dataframe tbody tr th:only-of-type {\n",
       "        vertical-align: middle;\n",
       "    }\n",
       "\n",
       "    .dataframe tbody tr th {\n",
       "        vertical-align: top;\n",
       "    }\n",
       "\n",
       "    .dataframe thead th {\n",
       "        text-align: right;\n",
       "    }\n",
       "</style>\n",
       "<table border=\"1\" class=\"dataframe\">\n",
       "  <thead>\n",
       "    <tr style=\"text-align: right;\">\n",
       "      <th></th>\n",
       "      <th>Model</th>\n",
       "      <th>Score without K Fold</th>\n",
       "      <th>Score K Fold</th>\n",
       "    </tr>\n",
       "  </thead>\n",
       "  <tbody>\n",
       "    <tr>\n",
       "      <th>0</th>\n",
       "      <td>Random Forest</td>\n",
       "      <td>0.975000</td>\n",
       "      <td>0.944352</td>\n",
       "    </tr>\n",
       "    <tr>\n",
       "      <th>1</th>\n",
       "      <td>Decision Tree</td>\n",
       "      <td>0.813889</td>\n",
       "      <td>0.781859</td>\n",
       "    </tr>\n",
       "    <tr>\n",
       "      <th>2</th>\n",
       "      <td>KNN</td>\n",
       "      <td>0.986111</td>\n",
       "      <td>0.954368</td>\n",
       "    </tr>\n",
       "  </tbody>\n",
       "</table>\n",
       "</div>"
      ],
      "text/plain": [
       "           Model  Score without K Fold  Score K Fold\n",
       "0  Random Forest              0.975000      0.944352\n",
       "1  Decision Tree              0.813889      0.781859\n",
       "2            KNN              0.986111      0.954368"
      ]
     },
     "execution_count": 14,
     "metadata": {},
     "output_type": "execute_result"
    }
   ],
   "source": [
    "pd.DataFrame({\n",
    "    'Model':['Random Forest','Decision Tree','KNN'],\n",
    "    'Score without K Fold' : [rf_score,dt_score,knn_score],\n",
    "    'Score K Fold': [kfold_rf_score ,kfold_dt_score,kfold_knn_score ]\n",
    "})"
   ]
  },
  {
   "cell_type": "code",
   "execution_count": null,
   "id": "d623d03f",
   "metadata": {},
   "outputs": [],
   "source": []
  }
 ],
 "metadata": {
  "kernelspec": {
   "display_name": "Python 3 (ipykernel)",
   "language": "python",
   "name": "python3"
  },
  "language_info": {
   "codemirror_mode": {
    "name": "ipython",
    "version": 3
   },
   "file_extension": ".py",
   "mimetype": "text/x-python",
   "name": "python",
   "nbconvert_exporter": "python",
   "pygments_lexer": "ipython3",
   "version": "3.9.12"
  }
 },
 "nbformat": 4,
 "nbformat_minor": 5
}
