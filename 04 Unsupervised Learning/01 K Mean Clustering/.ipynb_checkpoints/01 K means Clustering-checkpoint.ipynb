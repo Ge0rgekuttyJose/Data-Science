{
 "cells": [
  {
   "cell_type": "markdown",
   "id": "1c2dc50d",
   "metadata": {},
   "source": [
    "### Importing Library "
   ]
  },
  {
   "cell_type": "code",
   "execution_count": 15,
   "id": "b09c69a1",
   "metadata": {},
   "outputs": [],
   "source": [
    "import warnings\n",
    "warnings.filterwarnings('ignore')"
   ]
  },
  {
   "cell_type": "code",
   "execution_count": 16,
   "id": "a79cc874",
   "metadata": {},
   "outputs": [],
   "source": [
    "import pandas as pd\n",
    "from sklearn.cluster import KMeans\n",
    "import matplotlib.pyplot as plt"
   ]
  },
  {
   "cell_type": "markdown",
   "id": "6bfcf00b",
   "metadata": {},
   "source": [
    "### Reading the Datasets "
   ]
  },
  {
   "cell_type": "code",
   "execution_count": 17,
   "id": "1a8d0181",
   "metadata": {},
   "outputs": [
    {
     "data": {
      "text/html": [
       "<div>\n",
       "<style scoped>\n",
       "    .dataframe tbody tr th:only-of-type {\n",
       "        vertical-align: middle;\n",
       "    }\n",
       "\n",
       "    .dataframe tbody tr th {\n",
       "        vertical-align: top;\n",
       "    }\n",
       "\n",
       "    .dataframe thead th {\n",
       "        text-align: right;\n",
       "    }\n",
       "</style>\n",
       "<table border=\"1\" class=\"dataframe\">\n",
       "  <thead>\n",
       "    <tr style=\"text-align: right;\">\n",
       "      <th></th>\n",
       "      <th>Country Name</th>\n",
       "      <th>1962</th>\n",
       "      <th>1967</th>\n",
       "      <th>1972</th>\n",
       "      <th>1977</th>\n",
       "      <th>1982</th>\n",
       "      <th>1987</th>\n",
       "      <th>1992</th>\n",
       "      <th>1997</th>\n",
       "      <th>2002</th>\n",
       "      <th>2007</th>\n",
       "      <th>2012</th>\n",
       "    </tr>\n",
       "  </thead>\n",
       "  <tbody>\n",
       "    <tr>\n",
       "      <th>0</th>\n",
       "      <td>Arab World</td>\n",
       "      <td>-485569</td>\n",
       "      <td>-849826</td>\n",
       "      <td>-876979</td>\n",
       "      <td>1697107</td>\n",
       "      <td>103693</td>\n",
       "      <td>-1021606</td>\n",
       "      <td>293332</td>\n",
       "      <td>-1432980</td>\n",
       "      <td>396646</td>\n",
       "      <td>4413525</td>\n",
       "      <td>-1168750</td>\n",
       "    </tr>\n",
       "    <tr>\n",
       "      <th>1</th>\n",
       "      <td>Caribbean small states</td>\n",
       "      <td>-247909</td>\n",
       "      <td>-316430</td>\n",
       "      <td>-289373</td>\n",
       "      <td>-284532</td>\n",
       "      <td>-303086</td>\n",
       "      <td>-387993</td>\n",
       "      <td>-249602</td>\n",
       "      <td>-181604</td>\n",
       "      <td>-174651</td>\n",
       "      <td>-127609</td>\n",
       "      <td>-124122</td>\n",
       "    </tr>\n",
       "    <tr>\n",
       "      <th>2</th>\n",
       "      <td>Central Europe and the Baltics</td>\n",
       "      <td>112936</td>\n",
       "      <td>-227571</td>\n",
       "      <td>-104933</td>\n",
       "      <td>-85960</td>\n",
       "      <td>-279101</td>\n",
       "      <td>-819390</td>\n",
       "      <td>-1514119</td>\n",
       "      <td>-1176975</td>\n",
       "      <td>-593078</td>\n",
       "      <td>-811784</td>\n",
       "      <td>-770310</td>\n",
       "    </tr>\n",
       "    <tr>\n",
       "      <th>3</th>\n",
       "      <td>Early-demographic dividend</td>\n",
       "      <td>-1127882</td>\n",
       "      <td>-2453929</td>\n",
       "      <td>-3192784</td>\n",
       "      <td>-4981537</td>\n",
       "      <td>1228808</td>\n",
       "      <td>-1903124</td>\n",
       "      <td>-8288636</td>\n",
       "      <td>-7729474</td>\n",
       "      <td>-14370853</td>\n",
       "      <td>-14314078</td>\n",
       "      <td>-12621653</td>\n",
       "    </tr>\n",
       "    <tr>\n",
       "      <th>4</th>\n",
       "      <td>East Asia &amp; Pacific</td>\n",
       "      <td>-479477</td>\n",
       "      <td>628975</td>\n",
       "      <td>-808879</td>\n",
       "      <td>-1454415</td>\n",
       "      <td>713290</td>\n",
       "      <td>392043</td>\n",
       "      <td>-2395809</td>\n",
       "      <td>-385097</td>\n",
       "      <td>-2992651</td>\n",
       "      <td>-5719538</td>\n",
       "      <td>-1457489</td>\n",
       "    </tr>\n",
       "    <tr>\n",
       "      <th>...</th>\n",
       "      <td>...</td>\n",
       "      <td>...</td>\n",
       "      <td>...</td>\n",
       "      <td>...</td>\n",
       "      <td>...</td>\n",
       "      <td>...</td>\n",
       "      <td>...</td>\n",
       "      <td>...</td>\n",
       "      <td>...</td>\n",
       "      <td>...</td>\n",
       "      <td>...</td>\n",
       "      <td>...</td>\n",
       "    </tr>\n",
       "    <tr>\n",
       "      <th>228</th>\n",
       "      <td>Vietnam</td>\n",
       "      <td>0</td>\n",
       "      <td>0</td>\n",
       "      <td>0</td>\n",
       "      <td>-813123</td>\n",
       "      <td>-324942</td>\n",
       "      <td>-332327</td>\n",
       "      <td>-394236</td>\n",
       "      <td>-216001</td>\n",
       "      <td>-772336</td>\n",
       "      <td>-877681</td>\n",
       "      <td>-200002</td>\n",
       "    </tr>\n",
       "    <tr>\n",
       "      <th>229</th>\n",
       "      <td>Virgin Islands (U.S.)</td>\n",
       "      <td>10270</td>\n",
       "      <td>3245</td>\n",
       "      <td>9407</td>\n",
       "      <td>1961</td>\n",
       "      <td>-3492</td>\n",
       "      <td>-11156</td>\n",
       "      <td>-4618</td>\n",
       "      <td>-3936</td>\n",
       "      <td>-5272</td>\n",
       "      <td>-6191</td>\n",
       "      <td>-3604</td>\n",
       "    </tr>\n",
       "    <tr>\n",
       "      <th>230</th>\n",
       "      <td>Yemen, Rep.</td>\n",
       "      <td>-100000</td>\n",
       "      <td>-245662</td>\n",
       "      <td>-353000</td>\n",
       "      <td>-75000</td>\n",
       "      <td>-50000</td>\n",
       "      <td>-50000</td>\n",
       "      <td>672800</td>\n",
       "      <td>-100000</td>\n",
       "      <td>-100000</td>\n",
       "      <td>0</td>\n",
       "      <td>-50000</td>\n",
       "    </tr>\n",
       "    <tr>\n",
       "      <th>231</th>\n",
       "      <td>Zambia</td>\n",
       "      <td>2500</td>\n",
       "      <td>-4245</td>\n",
       "      <td>26662</td>\n",
       "      <td>17573</td>\n",
       "      <td>58483</td>\n",
       "      <td>2822</td>\n",
       "      <td>-22952</td>\n",
       "      <td>79445</td>\n",
       "      <td>-93014</td>\n",
       "      <td>-124044</td>\n",
       "      <td>-34490</td>\n",
       "    </tr>\n",
       "    <tr>\n",
       "      <th>232</th>\n",
       "      <td>Zimbabwe</td>\n",
       "      <td>-10001</td>\n",
       "      <td>-27996</td>\n",
       "      <td>-30360</td>\n",
       "      <td>-101516</td>\n",
       "      <td>141524</td>\n",
       "      <td>120505</td>\n",
       "      <td>-191803</td>\n",
       "      <td>-200000</td>\n",
       "      <td>-395554</td>\n",
       "      <td>-307650</td>\n",
       "      <td>-219922</td>\n",
       "    </tr>\n",
       "  </tbody>\n",
       "</table>\n",
       "<p>233 rows × 12 columns</p>\n",
       "</div>"
      ],
      "text/plain": [
       "                       Country Name     1962     1967     1972     1977  \\\n",
       "0                        Arab World  -485569  -849826  -876979  1697107   \n",
       "1            Caribbean small states  -247909  -316430  -289373  -284532   \n",
       "2    Central Europe and the Baltics   112936  -227571  -104933   -85960   \n",
       "3        Early-demographic dividend -1127882 -2453929 -3192784 -4981537   \n",
       "4               East Asia & Pacific  -479477   628975  -808879 -1454415   \n",
       "..                              ...      ...      ...      ...      ...   \n",
       "228                         Vietnam        0        0        0  -813123   \n",
       "229           Virgin Islands (U.S.)    10270     3245     9407     1961   \n",
       "230                     Yemen, Rep.  -100000  -245662  -353000   -75000   \n",
       "231                          Zambia     2500    -4245    26662    17573   \n",
       "232                        Zimbabwe   -10001   -27996   -30360  -101516   \n",
       "\n",
       "        1982     1987     1992     1997      2002      2007      2012  \n",
       "0     103693 -1021606   293332 -1432980    396646   4413525  -1168750  \n",
       "1    -303086  -387993  -249602  -181604   -174651   -127609   -124122  \n",
       "2    -279101  -819390 -1514119 -1176975   -593078   -811784   -770310  \n",
       "3    1228808 -1903124 -8288636 -7729474 -14370853 -14314078 -12621653  \n",
       "4     713290   392043 -2395809  -385097  -2992651  -5719538  -1457489  \n",
       "..       ...      ...      ...      ...       ...       ...       ...  \n",
       "228  -324942  -332327  -394236  -216001   -772336   -877681   -200002  \n",
       "229    -3492   -11156    -4618    -3936     -5272     -6191     -3604  \n",
       "230   -50000   -50000   672800  -100000   -100000         0    -50000  \n",
       "231    58483     2822   -22952    79445    -93014   -124044    -34490  \n",
       "232   141524   120505  -191803  -200000   -395554   -307650   -219922  \n",
       "\n",
       "[233 rows x 12 columns]"
      ]
     },
     "execution_count": 17,
     "metadata": {},
     "output_type": "execute_result"
    }
   ],
   "source": [
    "data = pd.read_csv('Datasets/migration.csv')\n",
    "data"
   ]
  },
  {
   "cell_type": "code",
   "execution_count": 18,
   "id": "e9e9f399",
   "metadata": {},
   "outputs": [],
   "source": [
    "new_data = data.drop('Country Name',axis = 1)"
   ]
  },
  {
   "cell_type": "markdown",
   "id": "cf542953",
   "metadata": {},
   "source": [
    "### Checking NULL Values"
   ]
  },
  {
   "cell_type": "code",
   "execution_count": 19,
   "id": "aff8fce9",
   "metadata": {
    "scrolled": true
   },
   "outputs": [
    {
     "data": {
      "text/plain": [
       "1962    0\n",
       "1967    0\n",
       "1972    0\n",
       "1977    0\n",
       "1982    0\n",
       "1987    0\n",
       "1992    0\n",
       "1997    0\n",
       "2002    0\n",
       "2007    0\n",
       "2012    0\n",
       "dtype: int64"
      ]
     },
     "execution_count": 19,
     "metadata": {},
     "output_type": "execute_result"
    }
   ],
   "source": [
    "new_data.isna().sum()"
   ]
  },
  {
   "cell_type": "markdown",
   "id": "3e1f9abb",
   "metadata": {},
   "source": [
    "### Checking the Data Types"
   ]
  },
  {
   "cell_type": "code",
   "execution_count": 20,
   "id": "7701592f",
   "metadata": {
    "scrolled": true
   },
   "outputs": [
    {
     "data": {
      "text/plain": [
       "1962    int64\n",
       "1967    int64\n",
       "1972    int64\n",
       "1977    int64\n",
       "1982    int64\n",
       "1987    int64\n",
       "1992    int64\n",
       "1997    int64\n",
       "2002    int64\n",
       "2007    int64\n",
       "2012    int64\n",
       "dtype: object"
      ]
     },
     "execution_count": 20,
     "metadata": {},
     "output_type": "execute_result"
    }
   ],
   "source": [
    "new_data.dtypes"
   ]
  },
  {
   "cell_type": "markdown",
   "id": "308055a2",
   "metadata": {},
   "source": [
    "### Creating a List for Elbow Plot"
   ]
  },
  {
   "cell_type": "code",
   "execution_count": 21,
   "id": "ce6ebc56",
   "metadata": {},
   "outputs": [],
   "source": [
    "sse = []\n",
    "for k in range(1,16):\n",
    "    km = KMeans(n_clusters=k)\n",
    "    km.fit(new_data)\n",
    "    sse.append(km.inertia_)"
   ]
  },
  {
   "cell_type": "code",
   "execution_count": 22,
   "id": "68af9daf",
   "metadata": {},
   "outputs": [],
   "source": [
    "#pip install threadpoolctl==3.1.0"
   ]
  },
  {
   "cell_type": "markdown",
   "id": "fcf00591",
   "metadata": {},
   "source": [
    "### Elbow graph is ploted for the best k Values"
   ]
  },
  {
   "cell_type": "code",
   "execution_count": 23,
   "id": "bb7c55ec",
   "metadata": {},
   "outputs": [
    {
     "data": {
      "text/plain": [
       "Text(0, 0.5, 'see')"
      ]
     },
     "execution_count": 23,
     "metadata": {},
     "output_type": "execute_result"
    },
    {
     "data": {
      "image/png": "[encoded data removed]",
      "text/plain": [
       "<Figure size 432x288 with 1 Axes>"
      ]
     },
     "metadata": {
      "needs_background": "light"
     },
     "output_type": "display_data"
    }
   ],
   "source": [
    "plt.plot(range(1,16),sse)\n",
    "plt.xlabel('iteration')\n",
    "plt.ylabel('see')"
   ]
  },
  {
   "cell_type": "markdown",
   "id": "6d3f96c7",
   "metadata": {},
   "source": [
    "### Creating a Model with Cluster=5"
   ]
  },
  {
   "cell_type": "code",
   "execution_count": 24,
   "id": "761b77af",
   "metadata": {},
   "outputs": [],
   "source": [
    "km_model = KMeans(n_clusters=5)\n",
    "prediction = km_model.fit_predict(new_data)"
   ]
  },
  {
   "cell_type": "code",
   "execution_count": 25,
   "id": "14e17669",
   "metadata": {},
   "outputs": [
    {
     "data": {
      "text/plain": [
       "array([0, 0, 0, 1, 3, 3, 3, 4, 4, 0, 0, 4, 3, 3, 2, 0, 3, 3, 3, 3, 1, 3,\n",
       "       1, 0, 0, 0, 1, 4, 2, 0, 0, 2, 3, 0, 3, 3, 0, 0, 0, 3, 0, 0, 0, 0,\n",
       "       0, 0, 0, 0, 0, 0, 0, 0, 0, 0, 3, 0, 0, 0, 0, 0, 0, 0, 0, 0, 0, 0,\n",
       "       0, 0, 0, 0, 0, 0, 0, 0, 0, 0, 0, 0, 0, 0, 0, 0, 0, 0, 0, 0, 0, 0,\n",
       "       0, 0, 0, 0, 0, 0, 0, 0, 0, 0, 0, 0, 0, 0, 0, 0, 0, 0, 0, 0, 0, 0,\n",
       "       0, 0, 0, 0, 0, 0, 0, 0, 0, 0, 0, 0, 0, 0, 0, 0, 0, 0, 0, 0, 0, 0,\n",
       "       0, 0, 0, 0, 0, 0, 0, 0, 0, 0, 0, 0, 0, 0, 0, 0, 0, 0, 0, 0, 0, 0,\n",
       "       0, 0, 0, 0, 0, 0, 0, 0, 0, 0, 0, 0, 0, 0, 0, 0, 0, 0, 0, 0, 0, 0,\n",
       "       0, 0, 0, 0, 0, 0, 0, 0, 0, 0, 0, 0, 0, 0, 0, 0, 0, 0, 0, 0, 0, 0,\n",
       "       0, 0, 0, 0, 0, 0, 0, 0, 0, 0, 0, 0, 0, 0, 0, 0, 0, 0, 0, 0, 0, 0,\n",
       "       0, 0, 0, 4, 0, 0, 0, 0, 0, 0, 0, 0, 0])"
      ]
     },
     "execution_count": 25,
     "metadata": {},
     "output_type": "execute_result"
    }
   ],
   "source": [
    "prediction"
   ]
  },
  {
   "cell_type": "code",
   "execution_count": 26,
   "id": "123a62ae",
   "metadata": {},
   "outputs": [],
   "source": [
    "clustered_result = pd.DataFrame({\n",
    "    'Country':data['Country Name'],\n",
    "    'Cluster':prediction})"
   ]
  },
  {
   "cell_type": "code",
   "execution_count": 27,
   "id": "0317ae82",
   "metadata": {},
   "outputs": [
    {
     "data": {
      "text/html": [
       "<div>\n",
       "<style scoped>\n",
       "    .dataframe tbody tr th:only-of-type {\n",
       "        vertical-align: middle;\n",
       "    }\n",
       "\n",
       "    .dataframe tbody tr th {\n",
       "        vertical-align: top;\n",
       "    }\n",
       "\n",
       "    .dataframe thead th {\n",
       "        text-align: right;\n",
       "    }\n",
       "</style>\n",
       "<table border=\"1\" class=\"dataframe\">\n",
       "  <thead>\n",
       "    <tr style=\"text-align: right;\">\n",
       "      <th></th>\n",
       "      <th>Country</th>\n",
       "      <th>Cluster</th>\n",
       "    </tr>\n",
       "  </thead>\n",
       "  <tbody>\n",
       "    <tr>\n",
       "      <th>0</th>\n",
       "      <td>Arab World</td>\n",
       "      <td>0</td>\n",
       "    </tr>\n",
       "    <tr>\n",
       "      <th>1</th>\n",
       "      <td>Caribbean small states</td>\n",
       "      <td>0</td>\n",
       "    </tr>\n",
       "    <tr>\n",
       "      <th>2</th>\n",
       "      <td>Central Europe and the Baltics</td>\n",
       "      <td>0</td>\n",
       "    </tr>\n",
       "    <tr>\n",
       "      <th>3</th>\n",
       "      <td>Early-demographic dividend</td>\n",
       "      <td>1</td>\n",
       "    </tr>\n",
       "    <tr>\n",
       "      <th>4</th>\n",
       "      <td>East Asia &amp; Pacific</td>\n",
       "      <td>3</td>\n",
       "    </tr>\n",
       "    <tr>\n",
       "      <th>...</th>\n",
       "      <td>...</td>\n",
       "      <td>...</td>\n",
       "    </tr>\n",
       "    <tr>\n",
       "      <th>228</th>\n",
       "      <td>Vietnam</td>\n",
       "      <td>0</td>\n",
       "    </tr>\n",
       "    <tr>\n",
       "      <th>229</th>\n",
       "      <td>Virgin Islands (U.S.)</td>\n",
       "      <td>0</td>\n",
       "    </tr>\n",
       "    <tr>\n",
       "      <th>230</th>\n",
       "      <td>Yemen, Rep.</td>\n",
       "      <td>0</td>\n",
       "    </tr>\n",
       "    <tr>\n",
       "      <th>231</th>\n",
       "      <td>Zambia</td>\n",
       "      <td>0</td>\n",
       "    </tr>\n",
       "    <tr>\n",
       "      <th>232</th>\n",
       "      <td>Zimbabwe</td>\n",
       "      <td>0</td>\n",
       "    </tr>\n",
       "  </tbody>\n",
       "</table>\n",
       "<p>233 rows × 2 columns</p>\n",
       "</div>"
      ],
      "text/plain": [
       "                            Country  Cluster\n",
       "0                        Arab World        0\n",
       "1            Caribbean small states        0\n",
       "2    Central Europe and the Baltics        0\n",
       "3        Early-demographic dividend        1\n",
       "4               East Asia & Pacific        3\n",
       "..                              ...      ...\n",
       "228                         Vietnam        0\n",
       "229           Virgin Islands (U.S.)        0\n",
       "230                     Yemen, Rep.        0\n",
       "231                          Zambia        0\n",
       "232                        Zimbabwe        0\n",
       "\n",
       "[233 rows x 2 columns]"
      ]
     },
     "execution_count": 27,
     "metadata": {},
     "output_type": "execute_result"
    }
   ],
   "source": [
    "clustered_result"
   ]
  },
  {
   "cell_type": "code",
   "execution_count": 28,
   "id": "d8fceff7",
   "metadata": {},
   "outputs": [
    {
     "data": {
      "text/plain": [
       "0    206\n",
       "3     15\n",
       "4      5\n",
       "1      4\n",
       "2      3\n",
       "Name: Cluster, dtype: int64"
      ]
     },
     "execution_count": 28,
     "metadata": {},
     "output_type": "execute_result"
    }
   ],
   "source": [
    "clustered_result['Cluster'].value_counts()"
   ]
  },
  {
   "cell_type": "markdown",
   "id": "fcc48ff3",
   "metadata": {},
   "source": [
    "\n",
    "####  b-a/max(a,b) \n",
    "#### a-intra / same clustser\n",
    "#### b- inter / different cluster\n",
    "#### 1-> best\n",
    "#### -1 -> worst\n",
    "#### 0 -> overlapping"
   ]
  },
  {
   "cell_type": "markdown",
   "id": "be4822c9",
   "metadata": {},
   "source": [
    "### Calculating the Error"
   ]
  },
  {
   "cell_type": "code",
   "execution_count": 29,
   "id": "658cc0fb",
   "metadata": {},
   "outputs": [],
   "source": [
    "from sklearn.metrics import silhouette_score"
   ]
  },
  {
   "cell_type": "code",
   "execution_count": 31,
   "id": "e6e2267e",
   "metadata": {},
   "outputs": [
    {
     "data": {
      "text/plain": [
       "0.7720601475450093"
      ]
     },
     "execution_count": 31,
     "metadata": {},
     "output_type": "execute_result"
    }
   ],
   "source": [
    "silhouette_score(new_data,km_model.labels_)"
   ]
  }
 ],
 "metadata": {
  "kernelspec": {
   "display_name": "Python 3 (ipykernel)",
   "language": "python",
   "name": "python3"
  },
  "language_info": {
   "codemirror_mode": {
    "name": "ipython",
    "version": 3
   },
   "file_extension": ".py",
   "mimetype": "text/x-python",
   "name": "python",
   "nbconvert_exporter": "python",
   "pygments_lexer": "ipython3",
   "version": "3.9.12"
  }
 },
 "nbformat": 4,
 "nbformat_minor": 5
}
